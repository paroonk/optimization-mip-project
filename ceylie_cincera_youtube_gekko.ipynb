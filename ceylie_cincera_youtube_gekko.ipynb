{
  "nbformat": 4,
  "nbformat_minor": 0,
  "metadata": {
    "colab": {
      "name": "ceylie-cincera-youtube.ipynb",
      "provenance": [],
      "collapsed_sections": [],
      "authorship_tag": "ABX9TyNo4MXGuA0vlK9CHrb4SROK",
      "include_colab_link": true
    },
    "kernelspec": {
      "name": "python3",
      "display_name": "Python 3",
      "language": "python"
    }
  },
  "cells": [
    {
      "cell_type": "markdown",
      "metadata": {
        "id": "view-in-github",
        "colab_type": "text"
      },
      "source": [
        "<a href=\"https://colab.research.google.com/github/paroonk/optimization-mip-project/blob/main/ceylie_cincera_youtube_gekko.ipynb\" target=\"_parent\"><img src=\"https://colab.research.google.com/assets/colab-badge.svg\" alt=\"Open In Colab\"/></a>"
      ]
    },
    {
      "cell_type": "markdown",
      "metadata": {
        "id": "Kw8ojRHC-Uob"
      },
      "source": [
        "### Import\n"
      ]
    },
    {
      "cell_type": "code",
      "metadata": {
        "colab": {
          "base_uri": "https://localhost:8080/"
        },
        "id": "oYGW2CXP6vKI",
        "outputId": "6328a293-d16c-4401-8127-ff67bcfb704d"
      },
      "source": [
        "!pip install gekko\n",
        "import numpy as np\n",
        "from gekko import GEKKO"
      ],
      "execution_count": 1,
      "outputs": [
        {
          "output_type": "stream",
          "name": "stdout",
          "text": [
            "Requirement already satisfied: gekko in e:\\vsc\\optimization-mip-project\\.venv\\lib\\site-packages (0.2.8)\nRequirement already satisfied: numpy>=1.8 in e:\\vsc\\optimization-mip-project\\.venv\\lib\\site-packages (from gekko) (1.20.1)\nRequirement already satisfied: flask in e:\\vsc\\optimization-mip-project\\.venv\\lib\\site-packages (from gekko) (1.1.2)\nRequirement already satisfied: flask-cors in e:\\vsc\\optimization-mip-project\\.venv\\lib\\site-packages (from gekko) (3.0.10)\nRequirement already satisfied: itsdangerous>=0.24 in e:\\vsc\\optimization-mip-project\\.venv\\lib\\site-packages (from flask->gekko) (1.1.0)\nRequirement already satisfied: Jinja2>=2.10.1 in e:\\vsc\\optimization-mip-project\\.venv\\lib\\site-packages (from flask->gekko) (2.11.3)\nRequirement already satisfied: click>=5.1 in e:\\vsc\\optimization-mip-project\\.venv\\lib\\site-packages (from flask->gekko) (7.1.2)\nRequirement already satisfied: Werkzeug>=0.15 in e:\\vsc\\optimization-mip-project\\.venv\\lib\\site-packages (from flask->gekko) (1.0.1)\nRequirement already satisfied: MarkupSafe>=0.23 in e:\\vsc\\optimization-mip-project\\.venv\\lib\\site-packages (from Jinja2>=2.10.1->flask->gekko) (1.1.1)\nRequirement already satisfied: Six in e:\\vsc\\optimization-mip-project\\.venv\\lib\\site-packages (from flask-cors->gekko) (1.15.0)\n"
          ]
        }
      ]
    },
    {
      "cell_type": "markdown",
      "metadata": {
        "id": "2roxk4b57WAW"
      },
      "source": [
        "# Transportation Problem"
      ]
    },
    {
      "cell_type": "code",
      "metadata": {
        "id": "8xe3PTf17KfA",
        "colab": {
          "base_uri": "https://localhost:8080/"
        },
        "outputId": "c8ed2355-eeea-4664-a95e-c9346dbb60f5"
      },
      "source": [
        "# transportation problem\n",
        "# minimize bushel*miles\n",
        "grove_name = ['Mt.Dara', 'Eustis', 'Clermont']\n",
        "GROVE = range(len(grove_name))\n",
        "supply = [275000, 400000, 300000] # amount each grove will supply\n",
        "\n",
        "plant_name = ['Ocala', 'Orlando', 'Leesburg']\n",
        "PLANT = range(len(plant_name))\n",
        "mship = [200000, 600000, 225000] # max amount that can be shipped to each plant\n",
        "\n",
        "bush = [[21, 50, 40], [35, 30, 22], [55, 20, 25]] # bushel miles for all groves and plants (cost)\n",
        "\n",
        "m = GEKKO()\n",
        "\n",
        "### VARIABLES\n",
        "x = m.Array(m.Var, (len(GROVE), len(PLANT)), integer=True, lb=0, ub=None)\n",
        "\n",
        "\n",
        "### OBJECTIVE\n",
        "m.Minimize(m.sum([bush[i][j] * x[i][j] for j in PLANT for i in GROVE]))\n",
        "\n",
        "\n",
        "### CONSTRAINTS\n",
        "# grove supply not exceed limit\n",
        "for i in GROVE:\n",
        "    m.Equation(m.sum([x[i][j] for j in PLANT]) == supply[i])\n",
        "    \n",
        "# max amount shipped to each plant not exceed limit\n",
        "for j in PLANT:\n",
        "    m.Equation(m.sum([x[i][j] for i in GROVE]) <= mship[j])\n",
        "\n",
        "\n",
        "### OPTIMIZING\n",
        "m.options.SOLVER = 1\n",
        "# m.solve()\n",
        "m.solve(disp=False)\n",
        "\n",
        "\n",
        "### RESULTS\n",
        "print('Objective: ' + str(m.options.objfcnval))\n",
        "for i in GROVE:\n",
        "    for j in PLANT:\n",
        "        val = x[i][j].value[0]\n",
        "        # if abs(val) > 1e-6: # only printing non-zeros\n",
        "        print('{} -> {} : {}'.format(grove_name[i], plant_name[j], val))\n",
        "\n",
        "print('\\nCheck results')\n",
        "for i in GROVE:\n",
        "    print('{} supply: {} == {}'.format(grove_name[i], sum(x[i][j].value[0] for j in PLANT), supply[i]))\n",
        "    \n",
        "for j in PLANT:\n",
        "    print('{} shipped: {} <= {}'.format(plant_name[j], sum(x[i][j].value[0] for i in GROVE), mship[j]))"
      ],
      "execution_count": 6,
      "outputs": [
        {
          "output_type": "stream",
          "name": "stdout",
          "text": [
            "Objective: 24000000.0\nMt.Dara -> Ocala : 200000.0\nMt.Dara -> Orlando : 0.0\nMt.Dara -> Leesburg : 75000.0\nEustis -> Ocala : 0.0\nEustis -> Orlando : 250000.0\nEustis -> Leesburg : 150000.0\nClermont -> Ocala : 0.0\nClermont -> Orlando : 300000.0\nClermont -> Leesburg : 0.0\n\nCheck results\nMt.Dara supply: 275000.0 == 275000\nEustis supply: 400000.0 == 400000\nClermont supply: 300000.0 == 300000\nOcala shipped: 200000.0 <= 200000\nOrlando shipped: 550000.0 <= 600000\nLeesburg shipped: 225000.0 <= 225000\n"
          ]
        }
      ]
    },
    {
      "cell_type": "markdown",
      "metadata": {
        "id": "R1r-NSb17tJ9"
      },
      "source": [
        "# Facility Location Problem"
      ]
    },
    {
      "cell_type": "code",
      "metadata": {
        "colab": {
          "base_uri": "https://localhost:8080/"
        },
        "id": "2oVf-HTg9rLy",
        "outputId": "e46a6bdf-7213-4c5c-9559-087213fc9506"
      },
      "source": [
        "# facility location problem\n",
        "# minimize activation cost + tranportation cost\n",
        "facility_name = ['FAC1', 'FAC2', 'FAC3']\n",
        "FACILITY = range(len(facility_name))\n",
        "act_cost = [1000, 1000, 1000] # cost to build facility\n",
        "max_supply = [500, 500, 500] # max supply limit for each facility\n",
        "\n",
        "customer_name = [1, 2, 3, 4, 5]\n",
        "CUSTOMER = range(len(customer_name))\n",
        "demand = [80, 270, 250, 160, 180] # demand for each customer\n",
        "\n",
        "tran_cost = [[4, 5, 6, 8, 10], [6, 4, 3, 5, 8], [9, 7, 4 ,3, 4]] # transportation cost facility->customer\n",
        "\n",
        "m = GEKKO()\n",
        "\n",
        "### VARIABLES\n",
        "x = m.Array(m.Var, (len(FACILITY), len(CUSTOMER)),integer=True, lb=0, ub=None)\n",
        "y = m.Array(m.Var, (len(FACILITY)), integer=True, lb=0, ub=1)\n",
        "\n",
        "\n",
        "### OBJECTIVE\n",
        "m.Minimize(m.sum([act_cost[i] * y[i] for i in FACILITY]) + m.sum([tran_cost[i][j] * x[i][j] for j in CUSTOMER for i in FACILITY]))\n",
        "\n",
        "\n",
        "### CONSTRAINTS\n",
        "for i in FACILITY:\n",
        "    m.Equation(m.sum([x[i][j] for j in CUSTOMER]) <= max_supply[i] * y[i]) # facility supply not exceed limit (y=1, if need)\n",
        "    \n",
        "for j in CUSTOMER:\n",
        "    m.Equation(m.sum([x[i][j] for i in FACILITY]) == demand[j]) # customer amount not exceed limit\n",
        "    \n",
        "\n",
        "### OPTIMIZING\n",
        "m.options.SOLVER = 1\n",
        "# m.solve()\n",
        "m.solve(disp=False)\n",
        "    \n",
        "\n",
        "### RESULTS\n",
        "print('Objective: ' + str(m.options.objfcnval))\n",
        "for i in FACILITY:\n",
        "    for j in CUSTOMER:\n",
        "        val = round(x[i][j].value[0], 2)\n",
        "        if abs(val) > 1e-6: # only printing non-zeros\n",
        "            print('{}->{} : {}'.format(facility_name[i], customer_name[j], val))\n",
        "\n",
        "print('\\nCheck results')\n",
        "for i in FACILITY:\n",
        "    print('{} supply: {} <= {}'.format(facility_name[i], sum(x[i][j].value[0] for j in CUSTOMER), max_supply[i] * y[i].value[0]))\n",
        "\n",
        "for j in CUSTOMER:\n",
        "    print('{} demand: {} == {}'.format(customer_name[j], sum(x[i][j].value[0] for i in FACILITY), demand[j]))"
      ],
      "execution_count": 9,
      "outputs": [
        {
          "output_type": "stream",
          "name": "stdout",
          "text": [
            "Objective: 5610.0\nFAC2->1 : 80.0\nFAC2->2 : 270.0\nFAC2->3 : 150.0\nFAC3->3 : 100.0\nFAC3->4 : 160.0\nFAC3->5 : 180.0\n\nCheck results\nFAC1 supply: 0.0 <= 0.0\nFAC2 supply: 500.0 <= 500.0\nFAC3 supply: 440.0 <= 500.0\n1 demand: 80.0 == 80\n2 demand: 270.0 == 270\n3 demand: 250.0 == 250\n4 demand: 160.0 == 160\n5 demand: 180.0 == 180\n"
          ]
        }
      ]
    },
    {
      "cell_type": "markdown",
      "metadata": {
        "id": "sjYT_M-p-izl"
      },
      "source": [
        "# Fire Station Problem"
      ]
    },
    {
      "cell_type": "code",
      "metadata": {
        "colab": {
          "base_uri": "https://localhost:8080/"
        },
        "id": "OFBgKIMd-jZE",
        "outputId": "dcfc81ca-e293-4d3e-a5fd-ba85a40f1d71"
      },
      "source": [
        "# fire station problem\n",
        "# minimize number of fire station build\n",
        "\n",
        "city_location = [1, 2, 3, 4, 5, 6]\n",
        "CITY = range(len(city_location))\n",
        "\n",
        "city_distance = [[0, 10, 20, 30, 30, 20], [10, 0, 25, 35, 20, 10], [20, 25, 0, 15, 30, 20], [30, 35, 15, 0, 15, 25], [20, 20, 30, 15, 0, 14], [20, 10, 20, 25, 14, 0]] # distance from city->city\n",
        "max_distance = 15 # distance between city to nearest city which have fire station must not exceed 15\n",
        "\n",
        "m = GEKKO()\n",
        "\n",
        "### VARIABLES\n",
        "x = m.Array(m.Var, (len(CITY)), integer=True, lb=0, ub=None)\n",
        "\n",
        "\n",
        "### OBJECTIVE\n",
        "m.Minimize(m.sum([x[i] for i in CITY]))\n",
        "\n",
        "\n",
        "### CONSTRAINTS\n",
        "for i in CITY:\n",
        "    m.Equation(m.sum([x[j] for j in CITY if city_distance[i][j] <= 15]) >= 1)\n",
        "    \n",
        "\n",
        "### OPTIMIZING\n",
        "m.options.SOLVER = 1\n",
        "# m.solve()\n",
        "m.solve(disp=False)\n",
        "\n",
        "\n",
        "### RESULTS\n",
        "print('Objective: ' + str(m.options.objfcnval))\n",
        "for i in CITY:\n",
        "    print('City {} : {}'.format(city_location[i], x[i].value[0]))\n",
        "\n",
        "select_city = [int(x[i].value[0]) for i in CITY]\n",
        "for i in CITY:\n",
        "    dist_list = []\n",
        "    for j in CITY:\n",
        "        if select_city[j] == 1:\n",
        "            dist_list.append(0 if j == i else city_distance[i][j])\n",
        "        else:\n",
        "            dist_list.append(999)\n",
        "    dist_list = np.array(dist_list)\n",
        "    print('City {} : {}, nearest city = City {} ({})'.format(city_location[i], dist_list, city_location[np.argmin(dist_list)], dist_list[np.argmin(dist_list)]))"
      ],
      "execution_count": 13,
      "outputs": [
        {
          "output_type": "stream",
          "name": "stdout",
          "text": [
            "Objective: 2.0\nCity 1 : 0.0\nCity 2 : 1.0\nCity 3 : 0.0\nCity 4 : 1.0\nCity 5 : 0.0\nCity 6 : 0.0\nCity 1 : [999  10 999  30 999 999], nearest city = City 2 (10)\nCity 2 : [999   0 999  35 999 999], nearest city = City 2 (0)\nCity 3 : [999  25 999  15 999 999], nearest city = City 4 (15)\nCity 4 : [999  35 999   0 999 999], nearest city = City 4 (0)\nCity 5 : [999  20 999  15 999 999], nearest city = City 4 (15)\nCity 6 : [999  10 999  25 999 999], nearest city = City 2 (10)\n"
          ]
        }
      ]
    },
    {
      "cell_type": "markdown",
      "metadata": {
        "id": "3gqOY4DP-jtf"
      },
      "source": [
        "# Blending Problem"
      ]
    },
    {
      "cell_type": "code",
      "metadata": {
        "colab": {
          "base_uri": "https://localhost:8080/"
        },
        "id": "iymAXmj3-j1q",
        "outputId": "7a4a92ac-c0b6-45b4-94f7-8cfebc96a8b6"
      },
      "source": [
        "# Blending problem\n",
        "# minimize cost\n",
        "# need 2000 kcal, 55 protein, 800 calcium\n",
        "\n",
        "food_list = ['Oatmeal', 'Chicken', 'Eggs', 'Whole milk', 'Cherry pie', 'Pork and beans']\n",
        "FOOD = range(len(food_list))\n",
        "kcal = [110, 205, 160, 160, 420, 260]\n",
        "protein = [4, 32, 13, 8, 4, 14]\n",
        "calcium = [2, 12, 54, 285, 22, 80]\n",
        "price = [0.3, 2.4, 1.3, 0.9, 2.0, 1.9]\n",
        "\n",
        "req_kcal = 2000\n",
        "req_protein = 55\n",
        "req_calcium = 800\n",
        "\n",
        "m = GEKKO()\n",
        "\n",
        "### VARIABLES\n",
        "x = m.Array(m.Var, (len(FOOD)), integer=True, lb=0, ub=None)\n",
        "\n",
        "\n",
        "### OBJECTIVE\n",
        "m.Minimize(m.sum([price[i] * x[i] for i in FOOD]))\n",
        "\n",
        "\n",
        "### CONSTRAINTS\n",
        "m.Equation(m.sum([kcal[i] * x[i] for i in FOOD]) >= req_kcal)\n",
        "m.Equation(m.sum([protein[i] * x[i] for i in FOOD]) >= req_protein)\n",
        "m.Equation(m.sum([calcium[i] * x[i] for i in FOOD]) >= req_calcium)\n",
        "    \n",
        "\n",
        "### OPTIMIZING\n",
        "m.options.SOLVER = 1\n",
        "# m.solve()\n",
        "m.solve(disp=False)\n",
        "\n",
        "\n",
        "### RESULTS\n",
        "print('Objective: ' + str(m.options.objfcnval))\n",
        "for i in FOOD:\n",
        "    print('{} : {}'.format(food_list[i], x[i].value[0]))\n",
        "\n",
        "print('\\nCheck results')\n",
        "print('Total kcal: {} >= {}'.format(sum(kcal[i] * x[i].value[0] for i in FOOD), req_kcal))\n",
        "print('Total protein: {} >= {}'.format(sum(protein[i] * x[i].value[0] for i in FOOD), req_protein))\n",
        "print('Total calcium: {} >= {}'.format(sum(calcium[i] * x[i].value[0] for i in FOOD), req_calcium))"
      ],
      "execution_count": 15,
      "outputs": [
        {
          "output_type": "stream",
          "name": "stdout",
          "text": [
            "Objective: 6.9\nOatmeal : 14.0\nChicken : 0.0\nEggs : 0.0\nWhole milk : 3.0\nCherry pie : 0.0\nPork and beans : 0.0\n\nCheck results\nTotal kcal: 2020.0 >= 2000\nTotal protein: 80.0 >= 55\nTotal calcium: 883.0 >= 800\n"
          ]
        }
      ]
    },
    {
      "cell_type": "markdown",
      "metadata": {
        "id": "rozDEsuE-j9h"
      },
      "source": [
        "# Fixed-charge Problem"
      ]
    },
    {
      "cell_type": "code",
      "metadata": {
        "colab": {
          "base_uri": "https://localhost:8080/"
        },
        "id": "jGbaBmT1-kEj",
        "outputId": "f8acef8b-01db-44e2-b4bc-3f036307a3f7"
      },
      "source": [
        "# Fixed-charge problem\n",
        "# maximize profit\n",
        "\n",
        "type_list = ['Shirts', 'Shorts', 'Pants']\n",
        "TYPE = range(len(type_list))\n",
        "\n",
        "machine_cost = [200, 150, 100] # production cost per week\n",
        "\n",
        "req_labor = [3, 2, 6] # Labor hour require per unit produced\n",
        "req_cloth = [4, 3, 4] # Cloth hour require per unit produced\n",
        "\n",
        "avail_labor = 150\n",
        "avail_cloth = 160\n",
        "\n",
        "sales = [12, 8, 15] # sales price per unit\n",
        "vc = [6, 4, 8] # variable cost per unit\n",
        "\n",
        "m = GEKKO()\n",
        "\n",
        "### VARIABLES\n",
        "x = m.Array(m.Var, (len(TYPE)), integer=True, lb=0, ub=None)\n",
        "y = m.Array(m.Var, (len(TYPE)), integer=True, lb=0, ub=1)\n",
        "\n",
        "\n",
        "### OBJECTIVE\n",
        "m.Maximize(m.sum([(sales[i] - vc[i]) * x[i] for i in TYPE]) - m.sum([machine_cost[i] * y[i] for i in TYPE]))\n",
        "\n",
        "\n",
        "### CONSTRAINTS\n",
        "m.Equation(m.sum([req_labor[i] * x[i] for i in TYPE]) <= avail_labor)\n",
        "m.Equation(m.sum([req_cloth[i] * x[i] for i in TYPE]) <= avail_cloth)\n",
        "\n",
        "for i in TYPE:\n",
        "    m.Equation(x[i] <= 10000 * y[i])\n",
        "    \n",
        "\n",
        "### OPTIMIZING\n",
        "m.options.SOLVER = 1\n",
        "# m.solve()\n",
        "m.solve(disp=False)\n",
        "\n",
        "\n",
        "### RESULTS\n",
        "print('Objective: ' + str(-1 * m.options.objfcnval))\n",
        "for i in TYPE:\n",
        "    print('{} production : {}'.format(type_list[i], x[i].value[0]))\n",
        "for i in TYPE:\n",
        "    print('Rent {} machinery : {}'.format(type_list[i], y[i].value[0]))\n",
        "      \n",
        "# Check\n",
        "print('\\nCheck results')\n",
        "print('Labor used: {} <= {}'.format(sum(req_labor[i] * x[i].value[0] for i in TYPE), avail_labor))\n",
        "print('Cloth used: {} <= {}'.format(sum(req_cloth[i] * x[i].value[0] for i in TYPE), avail_cloth))"
      ],
      "execution_count": 16,
      "outputs": [
        {
          "output_type": "stream",
          "name": "stdout",
          "text": [
            "Objective: 75.0\nShirts production : 0.0\nShorts production : 0.0\nPants production : 25.0\nRent Shirts machinery : 0.0\nRent Shorts machinery : 0.0\nRent Pants machinery : 1.0\n\nCheck results\nLabor used: 150.0 <= 150\nCloth used: 100.0 <= 160\n"
          ]
        }
      ]
    },
    {
      "cell_type": "markdown",
      "metadata": {
        "id": "3jSXgjGN-kNo"
      },
      "source": [
        "# Piecewise Linear Problem"
      ]
    },
    {
      "cell_type": "code",
      "metadata": {
        "colab": {
          "base_uri": "https://localhost:8080/"
        },
        "id": "LEZ0NiD--kUE",
        "outputId": "ce6e8116-6607-4d48-ff82-fcf1ca4c462b"
      },
      "source": [
        "# Piecewise linear problem\n",
        "# maximize profit\n",
        "# gas 1 must contain >= 50% oil 1, gas 2 must contain >= 60% oil 1\n",
        "# gas 1 price = 12/gallon, gas 2 price = 14/gallon\n",
        "# gas 1 current avail = 500 gallon, gas 2 current avail = 1000 gallon\n",
        "# Can buy additional oil 1 for 1500 gallon (max), 25/gallon for first 500 gallon, 20 for gallon 500-1000, 15 for gallon 1000-1500\n",
        "\n",
        "gas_type = [1, 2]\n",
        "GAS = range(len(gas_type))\n",
        "sales = [12, 14]\n",
        "\n",
        "oil_type = [1, 2]\n",
        "OIL = range(len(oil_type))\n",
        "req_oil1_ratio = [0.5, 0.6]\n",
        "avail_oil = [500, 1000]\n",
        "\n",
        "price_name = ['0-500', '500-1000', '1000-1500']\n",
        "price_num = [500, 500, 500]\n",
        "price_value = [25, 20, 15]\n",
        "PRICE = range(len(price_value))\n",
        "price_name = ['{}-{}'.format(sum(price_num[:i + 1]) - price_num[i], sum(price_num[:i + 1])) for i in PRICE]\n",
        "\n",
        "m = GEKKO()\n",
        "\n",
        "### VARIABLES\n",
        "x = m.Array(m.Var, (len(GAS), len(OIL)), integer=True, lb=0, ub=None)\n",
        "y = m.Array(m.Var, (len(PRICE)), integer=True, lb=0, ub=None)\n",
        "z = m.Array(m.Var, (len(PRICE)), integer=True, lb=0, ub=1)\n",
        "\n",
        "\n",
        "### OBJECTIVE\n",
        "m.Maximize(m.sum([sales[i] * x[i][j] for j in OIL for i in GAS]) - m.sum([price_value[k] * y[k] for k in PRICE]))\n",
        "\n",
        "\n",
        "### CONSTRAINTS\n",
        "m.Equation(m.sum([x[i][0] for i in GAS]) <= avail_oil[0] + m.sum([y[k] for k in PRICE]))\n",
        "m.Equation(m.sum([x[i][1] for i in GAS]) <= avail_oil[1])\n",
        "\n",
        "for k in PRICE:\n",
        "    m.Equation(y[k] <= price_num[k] * z[k]) # z need to be 1 if y > 0\n",
        "\n",
        "    if k > 0:\n",
        "        m.Equation(y[k - 1] >= price_num[k - 1] * z[k]) # y_k-1 need to be 500 if z_k == 1\n",
        "      \n",
        "    m.Equation(z[k] <= y[k]) # z need to be 0 if y == 0 (z not in obj, so required this)\n",
        "    \n",
        "for i in GAS:\n",
        "    m.Equation(x[i][0] >= req_oil1_ratio[i] * m.sum([x[i][j] for j in OIL]))\n",
        "\n",
        "\n",
        "### OPTIMIZING\n",
        "m.options.SOLVER = 1\n",
        "# m.solve()\n",
        "m.solve(disp=False)\n",
        "\n",
        "\n",
        "### RESULTS\n",
        "print('Objective: ' + str(-1 * m.options.objfcnval))\n",
        "for i in GAS:\n",
        "    for j in OIL:\n",
        "        print('Amount of oil {} to produce gas {} : {}'.format(oil_type[j], gas_type[i], x[i][j].value[0]))\n",
        "for k in PRICE:\n",
        "    print('Amount of oil 1 purchase group {} : {}'.format(price_name[k], y[k].value[0]))\n",
        "for k in PRICE:\n",
        "    print('Purchase from group {} : {}'.format(price_name[k], z[k].value[0]))\n",
        "    \n",
        "print('\\nCheck results')\n",
        "for j in OIL:\n",
        "    print('Oil {} used: {} <= {}'.format(j, sum(x[i][j].value[0] for i in GAS), avail_oil[j] + (1500 if j == 0 else 0)))\n",
        "for i in GAS:\n",
        "    print('Gas {} oil1 ratio: {} >= {}'.format(i, round(x[i][0].value[0] / sum(x[i][j].value[0] for j in OIL), 2) if x[i][0].value[0] > 0 else 'NA', req_oil1_ratio[i]))"
      ],
      "execution_count": 19,
      "outputs": [
        {
          "output_type": "error",
          "ename": "SyntaxError",
          "evalue": "closing parenthesis ']' does not match opening parenthesis '(' (<ipython-input-19-b92c8e538eeb>, line 36)",
          "traceback": [
            "\u001b[1;36m  File \u001b[1;32m\"<ipython-input-19-b92c8e538eeb>\"\u001b[1;36m, line \u001b[1;32m36\u001b[0m\n\u001b[1;33m    m.Equation(m.sum(x[i][0] for i in GAS]) <= avail_oil[0] + m.sum([y[k] for k in PRICE]))\u001b[0m\n\u001b[1;37m                                         ^\u001b[0m\n\u001b[1;31mSyntaxError\u001b[0m\u001b[1;31m:\u001b[0m closing parenthesis ']' does not match opening parenthesis '('\n"
          ]
        }
      ]
    },
    {
      "cell_type": "markdown",
      "metadata": {
        "id": "cOp0LEkZ-kaQ"
      },
      "source": [
        "# Piecewise Linear Problem 2"
      ]
    },
    {
      "cell_type": "code",
      "metadata": {
        "colab": {
          "base_uri": "https://localhost:8080/"
        },
        "id": "-9en-LaL-kf5",
        "outputId": "51b7c693-c652-4b18-e3ae-3e424700e6a4"
      },
      "source": [
        "# Piecewise linear problem 2\n",
        "# maximize exposures\n",
        "\n",
        "# budget = 20000\n",
        "# IJ exposures per ads, ads 1-6: 10000, 7-10: 3000, 11-15: 2500, 16+: 0\n",
        "# FS exposures per ads, ads 1-4: 8000, 5-12: 6000, 13-15: 2000, 16+: 0\n",
        "# ads cost = 1000\n",
        "\n",
        "mag_name = ['Inside Jocks', 'Family Square']\n",
        "MAG = range(len(mag_name))\n",
        "\n",
        "budget = 20000\n",
        "cost = 1000\n",
        "\n",
        "exp_num = [[6, 4, 5], [4, 8, 3]]\n",
        "exp_value = [[10000, 3000, 2500], [8000, 6000, 2000]]\n",
        "EXP = [range(len(lst)) for lst in exp_value]\n",
        "exp_name = [['{}-{}'.format(sum(exp_num[i][:j + 1]) - exp_num[i][j] + 1, sum(exp_num[i][:j + 1])) for j in EXP[i]] for i in MAG]\n",
        "\n",
        "m = GEKKO()\n",
        "\n",
        "### VARIABLES\n",
        "x = [[m.Var(integer=True, lb=0, ub=None) for j in EXP[i]] for i in MAG]\n",
        "y = [[m.Var(integer=True, lb=0, ub=1) for j in EXP[i]] for i in MAG]\n",
        "\n",
        "\n",
        "### OBJECTIVE\n",
        "m.Maximize(m.sum([exp_value[i][j] * x[i][j] for j in EXP[i] for i in MAG]))\n",
        "\n",
        "\n",
        "### CONSTRAINTS\n",
        "m.Equation(m.sum([cost * x[i][j] for j in EXP[i] for i in MAG]) <= budget)\n",
        "\n",
        "for i in MAG:\n",
        "    for j in EXP[i]:\n",
        "        m.Equation(x[i][j] <= exp_num[i][j] * y[i][j])\n",
        "        \n",
        "        if j > 0:\n",
        "            m.Equation(x[i][j - 1] >= exp_num[i][j - 1] * y[i][j])\n",
        "\n",
        "        m.Equation(y[i][j] <= x[i][j]) # y need to be 0 if x == 0 (y not in obj, so required this)\n",
        "\n",
        "\n",
        "### OPTIMIZING\n",
        "m.options.SOLVER = 1\n",
        "# m.solve()\n",
        "m.solve(disp=False)\n",
        "\n",
        "\n",
        "### RESULTS\n",
        "print('Objective: ' + str(-1 * m.options.objfcnval))\n",
        "for i in MAG:\n",
        "    for j in EXP[i]:\n",
        "        val = x[i][j].value[0]\n",
        "        if abs(val) > 1e-6: # only printing non-zeros\n",
        "            print('No. of ads {} for {} : {}'.format(exp_name[i][j], mag_name[i], val))\n",
        "for i in MAG:\n",
        "    for j in EXP[i]:\n",
        "        val = y[i][j].value[0]\n",
        "        if abs(val) > 1e-6: # only printing non-zeros\n",
        "            print('Use ads {} for {} : {}'.format(exp_name[i][j], mag_name[i], val))\n",
        "    \n",
        "print('\\nCheck results')\n",
        "for i in MAG:\n",
        "    print('No. of ads for {}: {}'.format(mag_name[i], sum([x[i][j].value[0] for j in EXP[i]])))\n",
        "print('Total cost: {} <= {}'.format(sum([1000 * x[i][j].value[0] for j in EXP[i] for i in MAG]), budget))"
      ],
      "execution_count": 34,
      "outputs": [
        {
          "output_type": "stream",
          "name": "stdout",
          "text": [
            "Objective: 146000.0\nNo. of ads 1-6 for Inside Jocks : 6.0\nNo. of ads 7-10 for Inside Jocks : 2.0\nNo. of ads 1-4 for Family Square : 4.0\nNo. of ads 5-12 for Family Square : 8.0\nUse ads 1-6 for Inside Jocks : 1.0\nUse ads 7-10 for Inside Jocks : 1.0\nUse ads 1-4 for Family Square : 1.0\nUse ads 5-12 for Family Square : 1.0\n\nCheck results\nNo. of ads for Inside Jocks: 8.0\nNo. of ads for Family Square: 12.0\nTotal cost: 20000.0 <= 20000\n"
          ]
        }
      ]
    },
    {
      "cell_type": "markdown",
      "metadata": {
        "id": "ZwHocLKp-klE"
      },
      "source": [
        "# Lockbox (Payment Process) Problem"
      ]
    },
    {
      "cell_type": "code",
      "metadata": {
        "colab": {
          "base_uri": "https://localhost:8080/"
        },
        "id": "UY5W6MIB-kps",
        "outputId": "79bc3158-4a62-4dc8-9a2f-1701d2d161f6"
      },
      "source": [
        "# Lockbox (payment process) problem\n",
        "# minimize cost\n",
        "\n",
        "region_name = ['West', 'Midwest', 'East', 'South']\n",
        "REGION = range(len(region_name))\n",
        "region_payment = [70000, 50000, 60000, 40000] # payment per day\n",
        "\n",
        "city_name = ['Los Angeles', 'Chicago', 'New York', 'Atlanta']\n",
        "CITY = range(len(city_name))\n",
        "\n",
        "dist = [[2, 6, 8, 8], [6, 2, 5, 5], [8, 5, 2, 5], [8, 5, 5, 2]] # days of mailing payment, region -> city\n",
        "\n",
        "int_rate = 0.2 # annual interest rate for investment\n",
        "lockbox_cost = 50000 # per city\n",
        "\n",
        "m = GEKKO()\n",
        "\n",
        "### VARIABLES\n",
        "x = m.Array(m.Var, (len(REGION), len(CITY)), integer=True, lb=0, ub=None)\n",
        "y = m.Array(m.Var, (len(CITY)), integer=True, lb=0, ub=1)\n",
        "\n",
        "\n",
        "### OBJECTIVE\n",
        "m.Minimize((int_rate * m.sum([dist[i][j] * x[i][j] for j in CITY for i in REGION])) + (lockbox_cost * m.sum([y[j] for j in CITY])))\n",
        "\n",
        "\n",
        "### CONSTRAINTS\n",
        "for i in REGION:\n",
        "    m.Equation(m.sum([x[i][j] for j in CITY]) == region_payment[i])\n",
        "  \n",
        "for j in CITY:\n",
        "    m.Equation(m.sum([x[i][j] for i in REGION]) <= 1000000 * y[j])\n",
        "\n",
        "\n",
        "### OPTIMIZING\n",
        "m.options.SOLVER = 1\n",
        "# m.solve()\n",
        "m.solve(disp=False)\n",
        "\n",
        "\n",
        "### RESULTS\n",
        "print('Objective: ' + str(m.options.objfcnval))\n",
        "for i in REGION:\n",
        "    for j in CITY:\n",
        "        val = x[i][j].value[0]\n",
        "        if abs(val) > 1e-6: # only printing non-zeros\n",
        "            print('Amount of payment from {} to {} : {}'.format(region_name[i], city_name[j], val))\n",
        "for j in CITY:\n",
        "    val = y[j].value[0]\n",
        "    if abs(val) > 1e-6: # only printing non-zeros\n",
        "        print('Build lockbox in {} : {}'.format(city_name[j], val))\n",
        "    \n",
        "print('\\nCheck results')\n",
        "for i in REGION:\n",
        "    print('Total payment from {}: {} == {}'.format(region_name[i], sum([x[i][j].value[0] for j in CITY]), region_payment[i]))"
      ],
      "execution_count": 40,
      "outputs": [
        {
          "output_type": "stream",
          "name": "stdout",
          "text": [
            "Objective: 242000.0\nAmount of payment from West to Los Angeles : 70000.0\nAmount of payment from Midwest to New York : 50000.0\nAmount of payment from East to New York : 60000.0\nAmount of payment from South to New York : 40000.0\nBuild lockbox in Los Angeles : 1.0\nBuild lockbox in New York : 1.0\n\nCheck results\nTotal payment from West: 70000.0 == 70000\nTotal payment from Midwest: 50000.0 == 50000\nTotal payment from East: 60000.0 == 60000\nTotal payment from South: 40000.0 == 40000\n"
          ]
        }
      ]
    },
    {
      "cell_type": "markdown",
      "metadata": {
        "id": "3tVHnS1J_Iyc"
      },
      "source": [
        "# Either-Or Problem"
      ]
    },
    {
      "cell_type": "code",
      "metadata": {
        "colab": {
          "base_uri": "https://localhost:8080/"
        },
        "id": "bgz91ugf_I3e",
        "outputId": "82da9d21-31e9-408e-c429-25076ad951ba"
      },
      "source": [
        "# Either-Or problem\n",
        "# maximize profit\n",
        "\n",
        "auto_name = ['Compact', 'Midsize', 'Large']\n",
        "AUTO = range(len(auto_name))\n",
        "req_steel = [1.5, 3, 5] # tons per unit\n",
        "req_labor = [30, 25, 40] # hrs per unit\n",
        "profit = [2000, 3000, 4000] # dollar per unit\n",
        "\n",
        "avail_steel = 6000\n",
        "avail_labor = 60000\n",
        "\n",
        "min_production = 1000 # if produce, need to be at least 1000 cars\n",
        "\n",
        "m = GEKKO()\n",
        "\n",
        "### VARIABLES\n",
        "x = m.Array(m.Var, (len(AUTO)), integer=True, lb=0, ub=None)\n",
        "y = m.Array(m.Var, (len(AUTO)), integer=True, lb=0, ub=1)\n",
        "\n",
        "\n",
        "### OBJECTIVE\n",
        "m.Maximize(m.sum([profit[i] * x[i] for i in AUTO]))\n",
        "\n",
        "\n",
        "### CONSTRAINTS\n",
        "for i in AUTO:\n",
        "    m.Equation(m.sum([req_steel[i] * x[i] for i in AUTO]) <= avail_steel)\n",
        "    m.Equation(m.sum([req_labor[i] * x[i] for i in AUTO]) <= avail_labor)\n",
        "    \n",
        "    m.Equation(x[i] >= min_production * y[i])\n",
        "    m.Equation(x[i] <= 100000 * y[i])\n",
        "\n",
        "\n",
        "### OPTIMIZING\n",
        "m.options.SOLVER = 1\n",
        "# m.solve()\n",
        "m.solve(disp=False)\n",
        "\n",
        "\n",
        "### RESULTS\n",
        "print('Objective: ' + str(-1 * m.options.objfcnval))\n",
        "for i in AUTO:\n",
        "    val = x[i].value[0]\n",
        "    print('Amount of {} production : {}'.format(auto_name[i], val))\n",
        "for i in AUTO:\n",
        "    val = y[i].value[0]\n",
        "    print('Build {} : {}'.format(auto_name[i], val))\n",
        "    \n",
        "print('\\nCheck results')\n",
        "for i in AUTO:\n",
        "    print('Total steel used: {} <= {}'.format(sum([req_steel[i] * x[i].value[0] for i in AUTO]), avail_steel))\n",
        "    print('Total labor used: {} <= {}'.format(sum([req_labor[i] * x[i].value[0] for i in AUTO]), avail_labor))"
      ],
      "execution_count": 41,
      "outputs": [
        {
          "output_type": "stream",
          "name": "stdout",
          "text": [
            "Objective: 6000000.0\nAmount of Compact production : 0.0\nAmount of Midsize production : 2000.0\nAmount of Large production : 0.0\nBuild Compact : 0.0\nBuild Midsize : 1.0\nBuild Large : 0.0\n\nCheck results\nTotal steel used: 6000.0 <= 6000\nTotal labor used: 50000.0 <= 60000\nTotal steel used: 6000.0 <= 6000\nTotal labor used: 50000.0 <= 60000\nTotal steel used: 6000.0 <= 6000\nTotal labor used: 50000.0 <= 60000\n"
          ]
        }
      ]
    },
    {
      "cell_type": "markdown",
      "metadata": {
        "id": "94HLWR_Y_9PB"
      },
      "source": [
        "# Multiperiod Work Scheduling"
      ]
    },
    {
      "cell_type": "code",
      "metadata": {
        "id": "m2Mwkn5Z_9UL",
        "colab": {
          "base_uri": "https://localhost:8080/"
        },
        "outputId": "c0d2832f-865b-4e9b-b11b-f1a85bdbe6ce"
      },
      "source": [
        "# Multiperiod Work Scheduling\n",
        "# minimize cost\n",
        "\n",
        "month_name = ['January', 'February', 'March', 'April', 'May']\n",
        "MONTH = range(len(month_name))\n",
        "service_demand = [6000, 7000, 8000, 9500, 11000] # hrs / month\n",
        "\n",
        "worker_init = 50\n",
        "worker_output = 160 # time worker can work per month\n",
        "worker_wage = 2000\n",
        "\n",
        "# use 1 month to train\n",
        "train_supervize = 50 # req experienced worker time per month\n",
        "train_wage = 1000\n",
        "\n",
        "turnover_rate = 0.05 # worker resign rate\n",
        "\n",
        "m = GEKKO()\n",
        "\n",
        "### VARIABLES\n",
        "x = m.Array(m.Var, (len(MONTH)), integer=True, lb=0, ub=None)\n",
        "y = m.Array(m.Var, (len(MONTH)), integer=True, lb=0, ub=None)\n",
        "\n",
        "\n",
        "### OBJECTIVE\n",
        "m.Minimize(m.sum([(worker_wage * x[i]) + (train_wage * y[i]) for i in MONTH]))\n",
        "\n",
        "\n",
        "### CONSTRAINTS\n",
        "for i in MONTH:\n",
        "    m.Equation((worker_output * x[i]) - (train_supervize * y[i]) >= service_demand[i])\n",
        "    \n",
        "    if i == 0:\n",
        "        m.Equation(x[i] == 50)\n",
        "        \n",
        "    else:\n",
        "        m.Equation(x[i] >= (1 - turnover_rate) * x[i - 1])\n",
        "        m.Equation(x[i] <= (1 - turnover_rate) * x[i - 1] + y[i - 1])\n",
        "\n",
        "\n",
        "### OPTIMIZING\n",
        "m.options.SOLVER = 1\n",
        "# m.solve()\n",
        "m.solve(disp=False)\n",
        "\n",
        "\n",
        "### RESULTS\n",
        "print('Objective: ' + str(m.options.objfcnval))\n",
        "for i in MONTH:\n",
        "    val = x[i].value[0]\n",
        "    print('No. of worker in month {} : {}'.format(month_name[i], val))\n",
        "for i in MONTH:\n",
        "    val = y[i].value[0]\n",
        "    print('No. of trainee in month {} : {}'.format(month_name[i], val))\n",
        "        \n",
        "print('\\nCheck results')\n",
        "for i in MONTH:\n",
        "    print('No. of worker hrs in month {}: {} >= {}'.format(month_name[i], (worker_output * x[i].value[0]) - (train_supervize * y[i].value[0]), service_demand[i]))\n",
        "\n",
        "for i in MONTH[1:]:\n",
        "  print('No. of turnover in month {}: {} >= {}'.format(month_name[i], x[i - 1].value[0] + y[i - 1].value[0] - x[i].value[0], round(turnover_rate * x[i - 1].value[0], 2)))"
      ],
      "execution_count": 48,
      "outputs": [
        {
          "output_type": "stream",
          "name": "stdout",
          "text": [
            "Objective: 600000.0\nNo. of worker in month January : 50.0\nNo. of worker in month February : 48.0\nNo. of worker in month March : 54.0\nNo. of worker in month April : 63.0\nNo. of worker in month May : 69.0\nNo. of trainee in month January : 1.0\nNo. of trainee in month February : 9.0\nNo. of trainee in month March : 12.0\nNo. of trainee in month April : 10.0\nNo. of trainee in month May : 0.0\n\nCheck results\nNo. of worker hrs in month January: 7950.0 >= 6000\nNo. of worker hrs in month February: 7230.0 >= 7000\nNo. of worker hrs in month March: 8040.0 >= 8000\nNo. of worker hrs in month April: 9580.0 >= 9500\nNo. of worker hrs in month May: 11040.0 >= 11000\nNo. of turnover in month February: 3.0 >= 2.5\nNo. of turnover in month March: 3.0 >= 2.4\nNo. of turnover in month April: 3.0 >= 2.7\nNo. of turnover in month May: 4.0 >= 3.15\n"
          ]
        }
      ]
    },
    {
      "cell_type": "markdown",
      "metadata": {
        "id": "J0Nb3zwLAeJo"
      },
      "source": [
        "# College Apparel"
      ]
    },
    {
      "cell_type": "code",
      "metadata": {
        "colab": {
          "base_uri": "https://localhost:8080/"
        },
        "id": "VFjRPuxSAeQc",
        "outputId": "5e56d57c-e5a2-4e0e-b9d4-e5f8695a88b6"
      },
      "source": [
        "# College Apparel\n",
        "# maximize profit\n",
        "\n",
        "shirt_name = ['Jersey', 'Sweatshirt', 'Red', 'Black', 'White']\n",
        "SHIRT = range(len(shirt_name))\n",
        "shirt_cost = [11.18, 20.11, 16.99, 16.99, 16.99]\n",
        "\n",
        "style_name = ['Criss Cross', 'Crop Top', 'Halter', 'Jersey Set', 'Hoodie', 'Shoulder']\n",
        "STYLE = range(len(style_name))\n",
        "style_price = [45, 40, 45, 45, 50 ,45]\n",
        "\n",
        "budget = 300\n",
        "\n",
        "m = GEKKO()\n",
        "\n",
        "### VARIABLES\n",
        "import random\n",
        "x = m.Array(m.Var, (len(SHIRT), len(STYLE)), integer=True, lb=0, ub=None)\n",
        "\n",
        "\n",
        "### OBJECTIVE\n",
        "m.Maximize(m.sum([(style_price[j] - shirt_cost[i]) * x[i][j] for j in STYLE for i in SHIRT]))\n",
        "\n",
        "\n",
        "### CONSTRAINTS\n",
        "m.Equation(m.sum([shirt_cost[i] * x[i][j] for j in STYLE for i in SHIRT]) <= budget)\n",
        "\n",
        "m.Equation(m.sum([x[i][3] for i in SHIRT if i != 0]) == 0)\n",
        "m.Equation(m.sum([x[i][4] for i in SHIRT if i != 1]) == 0)\n",
        "m.Equation(m.sum([x[0][j] for j in STYLE if j != 3]) == 0)\n",
        "m.Equation(m.sum([x[1][j] for j in STYLE if j != 4]) == 0)\n",
        "\n",
        "for i in SHIRT:\n",
        "    m.Equation(m.sum([x[i][j] for j in STYLE]) >= 2)\n",
        "for j in STYLE:\n",
        "    m.Equation(m.sum([x[i][j] for i in SHIRT]) >= 2)\n",
        "    \n",
        "m.Equation(m.sum([x[i][3] for i in SHIRT]) <= 5)\n",
        "\n",
        "for i in [2, 3, 4]:\n",
        "    m.Equation(x[i][1] >= 2)\n",
        "    \n",
        "m.Equation(m.sum([x[3][j] for j in STYLE]) <= 5)\n",
        "m.Equation(m.sum([x[i][1] for i in SHIRT]) >= 6)\n",
        "\n",
        "\n",
        "### OPTIMIZING\n",
        "m.options.SOLVER = 1\n",
        "# m.solve()\n",
        "m.solve(disp=False)\n",
        "\n",
        "\n",
        "### RESULTS\n",
        "print('Objective: ' + str(-1 * m.options.objfcnval))\n",
        "for i in SHIRT:\n",
        "    for j in STYLE:\n",
        "        val = x[i][j].value[0]\n",
        "        if abs(val) > 1e-6: # only printing non-zeros\n",
        "            print('{}_{} : {}'.format(shirt_name[i], style_name[j], val))\n",
        "          \n",
        "print('Total cost: {} <= {}'.format(sum([shirt_cost[i] * x[i][j].value[0] for j in STYLE for i in SHIRT]), budget))"
      ],
      "execution_count": 49,
      "outputs": [
        {
          "output_type": "stream",
          "name": "stdout",
          "text": [
            "Objective: 535.0\nJersey_Jersey Set : 5.0\nSweatshirt_Hoodie : 2.0\nRed_Criss Cross : 1.0\nRed_Crop Top : 2.0\nRed_Halter : 1.0\nBlack_Crop Top : 2.0\nBlack_Shoulder : 1.0\nWhite_Criss Cross : 1.0\nWhite_Crop Top : 2.0\nWhite_Halter : 1.0\nWhite_Shoulder : 1.0\nTotal cost: 300.0 <= 300\n"
          ]
        }
      ]
    },
    {
      "cell_type": "code",
      "execution_count": null,
      "metadata": {},
      "outputs": [],
      "source": []
    }
  ]
}