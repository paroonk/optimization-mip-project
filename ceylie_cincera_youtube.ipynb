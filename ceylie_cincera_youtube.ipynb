{
  "nbformat": 4,
  "nbformat_minor": 0,
  "metadata": {
    "colab": {
      "name": "ceylie-cincera-youtube.ipynb",
      "provenance": [],
      "collapsed_sections": [],
      "toc_visible": true,
      "authorship_tag": "ABX9TyOC4ZF1DSGfZDjzR+NLtN1U",
      "include_colab_link": true
    },
    "kernelspec": {
      "name": "python3",
      "display_name": "Python 3"
    }
  },
  "cells": [
    {
      "cell_type": "markdown",
      "metadata": {
        "id": "view-in-github",
        "colab_type": "text"
      },
      "source": [
        "<a href=\"https://colab.research.google.com/github/paroonk/optimization-mip-project/blob/main/ceylie_cincera_youtube.ipynb\" target=\"_parent\"><img src=\"https://colab.research.google.com/assets/colab-badge.svg\" alt=\"Open In Colab\"/></a>"
      ]
    },
    {
      "cell_type": "markdown",
      "metadata": {
        "id": "Kw8ojRHC-Uob"
      },
      "source": [
        "### Import\r\n"
      ]
    },
    {
      "cell_type": "code",
      "metadata": {
        "colab": {
          "base_uri": "https://localhost:8080/"
        },
        "id": "oYGW2CXP6vKI",
        "outputId": "7de13e0c-ed28-4739-b0d1-5ae0c0763bd5"
      },
      "source": [
        "!pip install mip\r\n",
        "import numpy as np\r\n",
        "from mip import *"
      ],
      "execution_count": null,
      "outputs": [
        {
          "output_type": "stream",
          "text": [
            "Requirement already satisfied: mip in /usr/local/lib/python3.7/dist-packages (1.13.0)\n",
            "Requirement already satisfied: cffi in /usr/local/lib/python3.7/dist-packages (from mip) (1.14.5)\n",
            "Requirement already satisfied: pycparser in /usr/local/lib/python3.7/dist-packages (from cffi->mip) (2.20)\n"
          ],
          "name": "stdout"
        }
      ]
    },
    {
      "cell_type": "markdown",
      "metadata": {
        "id": "2roxk4b57WAW"
      },
      "source": [
        "# Transportation Problem"
      ]
    },
    {
      "cell_type": "code",
      "metadata": {
        "id": "8xe3PTf17KfA",
        "colab": {
          "base_uri": "https://localhost:8080/"
        },
        "outputId": "2ee52c72-5b79-436c-e420-a30407215108"
      },
      "source": [
        "# transportation problem\r\n",
        "# minimize bushel*miles\r\n",
        "grove_name = ['Mt.Dara', 'Eustis', 'Clermont']\r\n",
        "GROVE = range(len(grove_name))\r\n",
        "supply = [275000, 400000, 300000] # amount each grove will supply\r\n",
        "\r\n",
        "plant_name = ['Ocala', 'Orlando', 'Leesburg']\r\n",
        "PLANT = range(len(plant_name))\r\n",
        "mship = [200000, 600000, 225000] # max amount that can be shipped to each plant\r\n",
        "\r\n",
        "bush = [[21, 50, 40], [35, 30, 22], [55, 20, 25]] # bushel miles for all groves and plants (cost)\r\n",
        "\r\n",
        "model = Model()\r\n",
        "\r\n",
        "# decision variables\r\n",
        "x = [[model.add_var(var_type=INTEGER, name='{} -> {}'.format(grove_name[i], plant_name[j])) for j in PLANT] for i in GROVE]\r\n",
        "\r\n",
        "# objective function\r\n",
        "model.objective = minimize(xsum(bush[i][j] * x[i][j] for j in PLANT for i in GROVE))\r\n",
        "\r\n",
        "# constraint\r\n",
        "for i in GROVE:\r\n",
        "  model += xsum(x[i][j] for j in PLANT) == supply[i] # grove supply not exceed limit\r\n",
        "    \r\n",
        "for j in PLANT:\r\n",
        "  model += xsum(x[i][j] for i in GROVE) <= mship[j] # max amount shipped to each plant not exceed limit\r\n",
        "    \r\n",
        "# optimizing\r\n",
        "status = model.optimize()\r\n",
        "if status == OptimizationStatus.OPTIMAL:\r\n",
        "  print('Optimal solution cost {} found'.format(model.objective_value))\r\n",
        "elif status == OptimizationStatus.FEASIBLE:\r\n",
        "  print('Sol.cost {} found, best possible: {}'.format(model.objective_value, model.objective_bound))\r\n",
        "elif status == OptimizationStatus.NO_SOLUTION_FOUND:\r\n",
        "  print('No feasible solution found, lower bound is: {}'.format(model.objective_bound))\r\n",
        "else:\r\n",
        "  print('Infeasible')\r\n",
        "    \r\n",
        "if status == OptimizationStatus.OPTIMAL or status == OptimizationStatus.FEASIBLE:\r\n",
        "  for v in model.vars:\r\n",
        "    # if abs(v.x) > 1e-6: # only printing non-zeros\r\n",
        "      print('{} : {}'.format(v.name, v.x))\r\n",
        "\r\n",
        "# Check\r\n",
        "print('\\nCheck results')\r\n",
        "for i in GROVE:\r\n",
        "  print('{} supply: {} == {}'.format(grove_name[i], sum(x[i][j].x for j in PLANT), supply[i]))\r\n",
        "    \r\n",
        "for j in PLANT:\r\n",
        "  print('{} shipped: {} <= {}'.format(plant_name[j], sum(x[i][j].x for i in GROVE), mship[j]))"
      ],
      "execution_count": null,
      "outputs": [
        {
          "output_type": "stream",
          "text": [
            "Optimal solution cost 24000000.0 found\n",
            "Mt.Dara -> Ocala : 200000.0\n",
            "Mt.Dara -> Orlando : 0.0\n",
            "Mt.Dara -> Leesburg : 75000.0\n",
            "Eustis -> Ocala : 0.0\n",
            "Eustis -> Orlando : 250000.0\n",
            "Eustis -> Leesburg : 150000.0\n",
            "Clermont -> Ocala : 0.0\n",
            "Clermont -> Orlando : 300000.0\n",
            "Clermont -> Leesburg : 0.0\n",
            "\n",
            "Check results\n",
            "Mt.Dara supply: 275000.0 == 275000\n",
            "Eustis supply: 400000.0 == 400000\n",
            "Clermont supply: 300000.0 == 300000\n",
            "Ocala shipped: 200000.0 <= 200000\n",
            "Orlando shipped: 550000.0 <= 600000\n",
            "Leesburg shipped: 225000.0 <= 225000\n"
          ],
          "name": "stdout"
        }
      ]
    },
    {
      "cell_type": "markdown",
      "metadata": {
        "id": "R1r-NSb17tJ9"
      },
      "source": [
        "# Facility Location Problem"
      ]
    },
    {
      "cell_type": "code",
      "metadata": {
        "colab": {
          "base_uri": "https://localhost:8080/"
        },
        "id": "2oVf-HTg9rLy",
        "outputId": "e970e0d8-ad65-4f07-9185-1677f7ba4d96"
      },
      "source": [
        "# facility location problem\r\n",
        "# minimize activation cost + tranportation cost\r\n",
        "facility_name = ['FAC1', 'FAC2', 'FAC3']\r\n",
        "FACILITY = range(len(facility_name))\r\n",
        "act_cost = [1000, 1000, 1000] # cost to build facility\r\n",
        "max_supply = [500, 500, 500] # max supply limit for each facility\r\n",
        "\r\n",
        "customer_name = [1, 2, 3, 4, 5]\r\n",
        "CUSTOMER = range(len(customer_name))\r\n",
        "demand = [80, 270, 250, 160, 180] # demand for each customer\r\n",
        "\r\n",
        "tran_cost = [[4, 5, 6, 8, 10], [6, 4, 3, 5, 8], [9, 7, 4 ,3, 4]] # transportation cost facility->customer\r\n",
        "\r\n",
        "model = Model()\r\n",
        "\r\n",
        "# decision variables\r\n",
        "x = [[model.add_var(var_type=INTEGER, name='{}->{}'.format(facility_name[i], customer_name[j])) for j in CUSTOMER] for i in FACILITY]\r\n",
        "y = [model.add_var(var_type=BINARY, name='use_{}'.format(facility_name[i])) for i in FACILITY]\r\n",
        "\r\n",
        "# objective function\r\n",
        "model.objective = minimize(xsum(act_cost[i] * y[i] for i in FACILITY) + xsum(tran_cost[i][j] * x[i][j] for j in CUSTOMER for i in FACILITY))\r\n",
        "\r\n",
        "# constraint\r\n",
        "for i in FACILITY:\r\n",
        "  model += xsum(x[i][j] for j in CUSTOMER) <= max_supply[i] * y[i] # facility supply not exceed limit (y=1, if need)\r\n",
        "    \r\n",
        "for j in CUSTOMER:\r\n",
        "  model += xsum(x[i][j] for i in FACILITY) == demand[j] # customer amount not exceed limit\r\n",
        "    \r\n",
        "# optimizing\r\n",
        "status = model.optimize()\r\n",
        "if status == OptimizationStatus.OPTIMAL:\r\n",
        "  print('Optimal solution cost {} found'.format(model.objective_value))\r\n",
        "elif status == OptimizationStatus.FEASIBLE:\r\n",
        "  print('Sol.cost {} found, best possible: {}'.format(model.objective_value, model.objective_bound))\r\n",
        "elif status == OptimizationStatus.NO_SOLUTION_FOUND:\r\n",
        "  print('No feasible solution found, lower bound is: {}'.format(model.objective_bound))\r\n",
        "else:\r\n",
        "  print('Infeasible')\r\n",
        "    \r\n",
        "if status == OptimizationStatus.OPTIMAL or status == OptimizationStatus.FEASIBLE:\r\n",
        "  for v in model.vars:\r\n",
        "    print('{} : {}'.format(v.name, v.x))\r\n",
        "        \r\n",
        "# Check\r\n",
        "print('\\nCheck results')\r\n",
        "for i in FACILITY:\r\n",
        "  print('{} supply: {} <= {}'.format(facility_name[i], sum(x[i][j].x for j in CUSTOMER), max_supply[i] * y[i].x))\r\n",
        "\r\n",
        "for j in CUSTOMER:\r\n",
        "  print('{} demand: {} == {}'.format(customer_name[j], sum(x[i][j].x for i in FACILITY), demand[j]))"
      ],
      "execution_count": null,
      "outputs": [
        {
          "output_type": "stream",
          "text": [
            "Optimal solution cost 5610.0 found\n",
            "FAC1->1 : 0.0\n",
            "FAC1->2 : 0.0\n",
            "FAC1->3 : 0.0\n",
            "FAC1->4 : 0.0\n",
            "FAC1->5 : 0.0\n",
            "FAC2->1 : 80.0\n",
            "FAC2->2 : 270.0\n",
            "FAC2->3 : 150.0\n",
            "FAC2->4 : 0.0\n",
            "FAC2->5 : 0.0\n",
            "FAC3->1 : 0.0\n",
            "FAC3->2 : 0.0\n",
            "FAC3->3 : 100.0\n",
            "FAC3->4 : 160.0\n",
            "FAC3->5 : 180.0\n",
            "use_FAC1 : 0.0\n",
            "use_FAC2 : 1.0\n",
            "use_FAC3 : 1.0\n",
            "\n",
            "Check results\n",
            "FAC1 supply: 0.0 <= 0.0\n",
            "FAC2 supply: 500.0 <= 500.0\n",
            "FAC3 supply: 440.0 <= 500.0\n",
            "1 demand: 80.0 == 80\n",
            "2 demand: 270.0 == 270\n",
            "3 demand: 250.0 == 250\n",
            "4 demand: 160.0 == 160\n",
            "5 demand: 180.0 == 180\n"
          ],
          "name": "stdout"
        }
      ]
    },
    {
      "cell_type": "markdown",
      "metadata": {
        "id": "sjYT_M-p-izl"
      },
      "source": [
        "# Fire Station Problem"
      ]
    },
    {
      "cell_type": "code",
      "metadata": {
        "colab": {
          "base_uri": "https://localhost:8080/"
        },
        "id": "OFBgKIMd-jZE",
        "outputId": "e8341bc4-d688-4850-a788-b58f334fcaf9"
      },
      "source": [
        "# fire station problem\r\n",
        "# minimize number of fire station build\r\n",
        "\r\n",
        "city_location = [1, 2, 3, 4, 5, 6]\r\n",
        "CITY = range(len(city_location))\r\n",
        "\r\n",
        "city_distance = [[0, 10, 20, 30, 30, 20], [10, 0, 25, 35, 20, 10], [20, 25, 0, 15, 30, 20], [30, 35, 15, 0, 15, 25], [20, 20, 30, 15, 0, 14], [20, 10, 20, 25, 14, 0]] # distance from city->city\r\n",
        "max_distance = 15 # distance between city to nearest city which have fire station must not exceed 15\r\n",
        "\r\n",
        "model = Model()\r\n",
        "\r\n",
        "# decision variables\r\n",
        "x = [model.add_var(var_type=BINARY, name='City {}'.format(city_location[i])) for i in CITY]\r\n",
        "\r\n",
        "# objective function\r\n",
        "model.objective = minimize(xsum(x[i] for i in CITY))\r\n",
        "\r\n",
        "# constraint\r\n",
        "for i in CITY:\r\n",
        "  model += xsum(x[j] for j in CITY if city_distance[i][j] <= 15) >= 1\r\n",
        "    \r\n",
        "# optimizing\r\n",
        "status = model.optimize()\r\n",
        "if status == OptimizationStatus.OPTIMAL:\r\n",
        "  print('Optimal solution cost {} found'.format(model.objective_value))\r\n",
        "elif status == OptimizationStatus.FEASIBLE:\r\n",
        "  print('Sol.cost {} found, best possible: {}'.format(model.objective_value, model.objective_bound))\r\n",
        "elif status == OptimizationStatus.NO_SOLUTION_FOUND:\r\n",
        "  print('No feasible solution found, lower bound is: {}'.format(model.objective_bound))\r\n",
        "else:\r\n",
        "  print('Infeasible')\r\n",
        "    \r\n",
        "if status == OptimizationStatus.OPTIMAL or status == OptimizationStatus.FEASIBLE:\r\n",
        "  for v in model.vars:\r\n",
        "    print('{} : {}'.format(v.name, v.x))\r\n",
        "        \r\n",
        "# Check\r\n",
        "print('\\nCheck results')\r\n",
        "select_city = [int(x[i].x) for i in CITY]\r\n",
        "for i in CITY:\r\n",
        "  dist_list = []\r\n",
        "  for j in CITY:\r\n",
        "    if select_city[j] == 1:\r\n",
        "      dist_list.append(0 if j == i else city_distance[i][j])\r\n",
        "    else:\r\n",
        "      dist_list.append(999)\r\n",
        "  dist_list = np.array(dist_list)\r\n",
        "  print('City {} : {}, nearest city = City {} ({})'.format(city_location[i], dist_list, city_location[np.argmin(dist_list)], dist_list[np.argmin(dist_list)]))"
      ],
      "execution_count": null,
      "outputs": [
        {
          "output_type": "stream",
          "text": [
            "Optimal solution cost 2.0 found\n",
            "City 1 : 0.0\n",
            "City 2 : 1.0\n",
            "City 3 : 0.0\n",
            "City 4 : 1.0\n",
            "City 5 : 0.0\n",
            "City 6 : 0.0\n",
            "\n",
            "Check results\n",
            "City 1 : [999  10 999  30 999 999], nearest city = City 2 (10)\n",
            "City 2 : [999   0 999  35 999 999], nearest city = City 2 (0)\n",
            "City 3 : [999  25 999  15 999 999], nearest city = City 4 (15)\n",
            "City 4 : [999  35 999   0 999 999], nearest city = City 4 (0)\n",
            "City 5 : [999  20 999  15 999 999], nearest city = City 4 (15)\n",
            "City 6 : [999  10 999  25 999 999], nearest city = City 2 (10)\n"
          ],
          "name": "stdout"
        }
      ]
    },
    {
      "cell_type": "markdown",
      "metadata": {
        "id": "3gqOY4DP-jtf"
      },
      "source": [
        "# Blending Problem"
      ]
    },
    {
      "cell_type": "code",
      "metadata": {
        "colab": {
          "base_uri": "https://localhost:8080/"
        },
        "id": "iymAXmj3-j1q",
        "outputId": "938de17d-8d62-45e6-9043-0df5bd759a57"
      },
      "source": [
        "# Blending problem\r\n",
        "# minimize cost\r\n",
        "# need 2000 kcal, 55 protein, 800 calcium\r\n",
        "\r\n",
        "food_list = ['Oatmeal', 'Chicken', 'Eggs', 'Whole milk', 'Cherry pie', 'Pork and beans']\r\n",
        "FOOD = range(len(food_list))\r\n",
        "kcal = [110, 205, 160, 160, 420, 260]\r\n",
        "protein = [4, 32, 13, 8, 4, 14]\r\n",
        "calcium = [2, 12, 54, 285, 22, 80]\r\n",
        "price = [0.3, 2.4, 1.3, 0.9, 2.0, 1.9]\r\n",
        "\r\n",
        "req_kcal = 2000\r\n",
        "req_protein = 55\r\n",
        "req_calcium = 800\r\n",
        "\r\n",
        "model = Model()\r\n",
        "\r\n",
        "# decision variables\r\n",
        "x = [model.add_var(var_type=INTEGER, name='{}'.format(food_list[i])) for i in FOOD]\r\n",
        "\r\n",
        "# objective function\r\n",
        "model.objective = minimize(xsum(price[i] * x[i] for i in FOOD))\r\n",
        "\r\n",
        "# constraint\r\n",
        "model += xsum(kcal[i] * x[i] for i in FOOD) >= req_kcal\r\n",
        "model += xsum(protein[i] * x[i] for i in FOOD) >= req_protein\r\n",
        "model += xsum(calcium[i] * x[i] for i in FOOD) >= req_calcium\r\n",
        "    \r\n",
        "# optimizing\r\n",
        "status = model.optimize()\r\n",
        "if status == OptimizationStatus.OPTIMAL:\r\n",
        "  print('Optimal solution cost {} found'.format(model.objective_value))\r\n",
        "elif status == OptimizationStatus.FEASIBLE:\r\n",
        "  print('Sol.cost {} found, best possible: {}'.format(model.objective_value, model.objective_bound))\r\n",
        "elif status == OptimizationStatus.NO_SOLUTION_FOUND:\r\n",
        "  print('No feasible solution found, lower bound is: {}'.format(model.objective_bound))\r\n",
        "else:\r\n",
        "  print('Infeasible')\r\n",
        "    \r\n",
        "if status == OptimizationStatus.OPTIMAL or status == OptimizationStatus.FEASIBLE:\r\n",
        "  for v in model.vars:\r\n",
        "    print('{} : {}'.format(v.name, v.x))\r\n",
        "        \r\n",
        "# Check\r\n",
        "print('\\nCheck results')\r\n",
        "print('Total kcal: {} >= {}'.format(sum(kcal[i] * x[i].x for i in FOOD), req_kcal))\r\n",
        "print('Total protein: {} >= {}'.format(sum(protein[i] * x[i].x for i in FOOD), req_protein))\r\n",
        "print('Total calcium: {} >= {}'.format(sum(calcium[i] * x[i].x for i in FOOD), req_calcium))"
      ],
      "execution_count": null,
      "outputs": [
        {
          "output_type": "stream",
          "text": [
            "Optimal solution cost 6.9 found\n",
            "Oatmeal : 14.0\n",
            "Chicken : 0.0\n",
            "Eggs : 0.0\n",
            "Whole milk : 3.0\n",
            "Cherry pie : 0.0\n",
            "Pork and beans : 0.0\n",
            "\n",
            "Check results\n",
            "Total kcal: 2020.0 >= 2000\n",
            "Total protein: 80.0 >= 55\n",
            "Total calcium: 883.0 >= 800\n"
          ],
          "name": "stdout"
        }
      ]
    },
    {
      "cell_type": "markdown",
      "metadata": {
        "id": "rozDEsuE-j9h"
      },
      "source": [
        "# Fixed-charge Problem"
      ]
    },
    {
      "cell_type": "code",
      "metadata": {
        "colab": {
          "base_uri": "https://localhost:8080/"
        },
        "id": "jGbaBmT1-kEj",
        "outputId": "777312bf-231c-447f-ba74-a75c702be7d4"
      },
      "source": [
        "# Fixed-charge problem\r\n",
        "# maximize profit\r\n",
        "\r\n",
        "type_list = ['Shirts', 'Shorts', 'Pants']\r\n",
        "TYPE = range(len(type_list))\r\n",
        "\r\n",
        "machine_cost = [200, 150, 100] # production cost per week\r\n",
        "\r\n",
        "req_labor = [3, 2, 6] # Labor hour require per unit produced\r\n",
        "req_cloth = [4, 3, 4] # Cloth hour require per unit produced\r\n",
        "\r\n",
        "avail_labor = 150\r\n",
        "avail_cloth = 160\r\n",
        "\r\n",
        "sales = [12, 8, 15] # sales price per unit\r\n",
        "vc = [6, 4, 8] # variable cost per unit\r\n",
        "\r\n",
        "model = Model()\r\n",
        "\r\n",
        "# decision variables\r\n",
        "x = [model.add_var(var_type=INTEGER, name='{} production'.format(type_list[i])) for i in TYPE]\r\n",
        "y = [model.add_var(var_type=BINARY, name='Rent {} machinery'.format(type_list[i])) for i in TYPE]\r\n",
        "\r\n",
        "# objective function\r\n",
        "model.objective = maximize(xsum((sales[i] - vc[i]) * x[i] for i in TYPE) - xsum(machine_cost[i] * y[i] for i in TYPE))\r\n",
        "\r\n",
        "# constraint\r\n",
        "model += xsum(req_labor[i] * x[i] for i in TYPE) <= avail_labor\r\n",
        "model += xsum(req_cloth[i] * x[i] for i in TYPE) <= avail_cloth\r\n",
        "\r\n",
        "for i in TYPE:\r\n",
        "  model += x[i] <= 10000 * y[i]\r\n",
        "    \r\n",
        "# optimizing\r\n",
        "status = model.optimize()\r\n",
        "if status == OptimizationStatus.OPTIMAL:\r\n",
        "  print('Optimal solution cost {} found'.format(model.objective_value))\r\n",
        "elif status == OptimizationStatus.FEASIBLE:\r\n",
        "  print('Sol.cost {} found, best possible: {}'.format(model.objective_value, model.objective_bound))\r\n",
        "elif status == OptimizationStatus.NO_SOLUTION_FOUND:\r\n",
        "  print('No feasible solution found, lower bound is: {}'.format(model.objective_bound))\r\n",
        "else:\r\n",
        "  print('Infeasible')\r\n",
        "    \r\n",
        "if status == OptimizationStatus.OPTIMAL or status == OptimizationStatus.FEASIBLE:\r\n",
        "  for v in model.vars:\r\n",
        "    print('{} : {}'.format(v.name, v.x))\r\n",
        "      \r\n",
        "# Check\r\n",
        "print('\\nCheck results')\r\n",
        "print('Labor used: {} <= {}'.format(sum(req_labor[i] * x[i].x for i in TYPE), avail_labor))\r\n",
        "print('Cloth used: {} <= {}'.format(sum(req_cloth[i] * x[i].x for i in TYPE), avail_cloth))"
      ],
      "execution_count": null,
      "outputs": [
        {
          "output_type": "stream",
          "text": [
            "Optimal solution cost 75.0 found\n",
            "Shirts production : 0.0\n",
            "Shorts production : 0.0\n",
            "Pants production : 25.0\n",
            "Rent Shirts machinery : 0.0\n",
            "Rent Shorts machinery : 0.0\n",
            "Rent Pants machinery : 1.0\n",
            "\n",
            "Check results\n",
            "Labor used: 150.0 <= 150\n",
            "Cloth used: 100.0 <= 160\n"
          ],
          "name": "stdout"
        }
      ]
    },
    {
      "cell_type": "markdown",
      "metadata": {
        "id": "3jSXgjGN-kNo"
      },
      "source": [
        "# Piecewise Linear Problem"
      ]
    },
    {
      "cell_type": "code",
      "metadata": {
        "colab": {
          "base_uri": "https://localhost:8080/"
        },
        "id": "LEZ0NiD--kUE",
        "outputId": "2004855b-81a4-4ba0-8371-772ae71cc067"
      },
      "source": [
        "# Piecewise linear problem\r\n",
        "# maximize profit\r\n",
        "# gas 1 must contain >= 50% oil 1, gas 2 must contain >= 60% oil 1\r\n",
        "# gas 1 price = 12/gallon, gas 2 price = 14/gallon\r\n",
        "# gas 1 current avail = 500 gallon, gas 2 current avail = 1000 gallon\r\n",
        "# Can buy additional oil 1 for 1500 gallon (max), 25/gallon for first 500 gallon, 20 for gallon 500-1000, 15 for gallon 1000-1500\r\n",
        "\r\n",
        "gas_type = [1, 2]\r\n",
        "GAS = range(len(gas_type))\r\n",
        "sales = [12, 14]\r\n",
        "\r\n",
        "oil_type = [1, 2]\r\n",
        "OIL = range(len(oil_type))\r\n",
        "req_oil1_ratio = [0.5, 0.6]\r\n",
        "avail_oil = [500, 1000]\r\n",
        "\r\n",
        "price_name = ['0-500', '500-1000', '1000-1500']\r\n",
        "price_num = [500, 500, 500]\r\n",
        "price_value = [25, 20, 15]\r\n",
        "PRICE = range(len(price_value))\r\n",
        "price_name = ['{}-{}'.format(sum(price_num[:i + 1]) - price_num[i], sum(price_num[:i + 1])) for i in PRICE]\r\n",
        "\r\n",
        "model = Model()\r\n",
        "\r\n",
        "# decision variables\r\n",
        "x = [[model.add_var(var_type=INTEGER, name='Amount of oil {} to produce gas {}'.format(oil_type[j], gas_type[i])) for j in OIL] for i in GAS]\r\n",
        "y = [model.add_var(var_type=INTEGER, name='Amount of oil 1 purchase group {}'.format(price_name[k])) for k in PRICE]\r\n",
        "z = [model.add_var(var_type=BINARY, name='Purchase from group {}'.format(price_name[k])) for k in PRICE]\r\n",
        "\r\n",
        "# objective function\r\n",
        "model.objective = maximize(xsum(sales[i] * x[i][j] for j in OIL for i in GAS) - xsum(price_value[k] * y[k] for k in PRICE))\r\n",
        "\r\n",
        "# constraint\r\n",
        "model += xsum(x[i][0] for i in GAS) <= avail_oil[0] + xsum(y[k] for k in PRICE)\r\n",
        "model += xsum(x[i][1] for i in GAS) <= avail_oil[1]\r\n",
        "\r\n",
        "for k in PRICE:\r\n",
        "  model += y[k] <= price_num[k] * z[k] # z need to be 1 if y > 0\r\n",
        "\r\n",
        "  if k > 0:\r\n",
        "    model += y[k - 1] >= price_num[k - 1] * z[k] # y_k-1 need to be 500 if z_k == 1\r\n",
        "      \r\n",
        "  model += z[k] <= y[k] # z need to be 0 if y == 0 (z not in obj, so required this)\r\n",
        "    \r\n",
        "for i in GAS:\r\n",
        "  model += x[i][0] >= req_oil1_ratio[i] * xsum(x[i][j] for j in OIL)\r\n",
        "\r\n",
        "# for constr in model.constrs:\r\n",
        "#   print(constr)\r\n",
        "    \r\n",
        "# optimizing\r\n",
        "status = model.optimize()\r\n",
        "if status == OptimizationStatus.OPTIMAL:\r\n",
        "  print('Optimal solution cost {} found'.format(model.objective_value))\r\n",
        "elif status == OptimizationStatus.FEASIBLE:\r\n",
        "  print('Sol.cost {} found, best possible: {}'.format(model.objective_value, model.objective_bound))\r\n",
        "elif status == OptimizationStatus.NO_SOLUTION_FOUND:\r\n",
        "  print('No feasible solution found, lower bound is: {}'.format(model.objective_bound))\r\n",
        "else:\r\n",
        "  print('Infeasible')\r\n",
        "    \r\n",
        "if status == OptimizationStatus.OPTIMAL or status == OptimizationStatus.FEASIBLE:\r\n",
        "  for v in model.vars:\r\n",
        "    print('{} : {}'.format(v.name, v.x))\r\n",
        "    \r\n",
        "# Check\r\n",
        "print('\\nCheck results')\r\n",
        "for j in OIL:\r\n",
        "  print('Oil {} used: {} <= {}'.format(j, sum([x[i][j].x for i in GAS]), avail_oil[j] + (1500 if j == 0 else 0)))\r\n",
        "for i in GAS:\r\n",
        "  print('Gas {} oil1 ratio: {} >= {}'.format(i, np.round(x[i][0].x / sum(x[i][j].x for j in OIL), 2) if x[i][0].x > 0 else 'NA', req_oil1_ratio[i]))"
      ],
      "execution_count": null,
      "outputs": [
        {
          "output_type": "stream",
          "text": [
            "Optimal solution cost 12500.0 found\n",
            "Amount of oil 1 to produce gas 1 : 0.0\n",
            "Amount of oil 2 to produce gas 1 : 0.0\n",
            "Amount of oil 1 to produce gas 2 : 1500.0\n",
            "Amount of oil 2 to produce gas 2 : 1000.0\n",
            "Amount of oil 1 purchase group 0-500 : 500.0\n",
            "Amount of oil 1 purchase group 500-1000 : 500.0\n",
            "Amount of oil 1 purchase group 1000-1500 : 0.0\n",
            "Purchase from group 0-500 : 1.0\n",
            "Purchase from group 500-1000 : 1.0\n",
            "Purchase from group 1000-1500 : 0.0\n",
            "\n",
            "Check results\n",
            "Oil 0 used: 1500.0 <= 2000\n",
            "Oil 1 used: 1000.0 <= 1000\n",
            "Gas 0 oil1 ratio: NA >= 0.5\n",
            "Gas 1 oil1 ratio: 0.6 >= 0.6\n"
          ],
          "name": "stdout"
        }
      ]
    },
    {
      "cell_type": "markdown",
      "metadata": {
        "id": "cOp0LEkZ-kaQ"
      },
      "source": [
        "# Piecewise Linear Problem 2"
      ]
    },
    {
      "cell_type": "code",
      "metadata": {
        "colab": {
          "base_uri": "https://localhost:8080/"
        },
        "id": "-9en-LaL-kf5",
        "outputId": "362e3778-a09a-4c23-c4e5-ca3082262aa8"
      },
      "source": [
        "# Piecewise linear problem 2\r\n",
        "# maximize exposures\r\n",
        "\r\n",
        "# budget = 20000\r\n",
        "# IJ exposures per ads, ads 1-6: 10000, 7-10: 3000, 11-15: 2500, 16+: 0\r\n",
        "# FS exposures per ads, ads 1-4: 8000, 5-12: 6000, 13-15: 2000, 16+: 0\r\n",
        "# ads cost = 1000\r\n",
        "\r\n",
        "mag_name = ['Inside Jocks', 'Family Square']\r\n",
        "MAG = range(len(mag_name))\r\n",
        "\r\n",
        "budget = 20000\r\n",
        "cost = 1000\r\n",
        "\r\n",
        "exp_num = [[6, 4, 5], [4, 8, 3]]\r\n",
        "exp_value = [[10000, 3000, 2500], [8000, 6000, 2000]]\r\n",
        "EXP = [range(len(lst)) for lst in exp_value]\r\n",
        "exp_name = [['{}-{}'.format(sum(exp_num[i][:j + 1]) - exp_num[i][j] + 1, sum(exp_num[i][:j + 1])) for j in EXP[i]] for i in MAG]\r\n",
        "\r\n",
        "model = Model()\r\n",
        "\r\n",
        "# decision variables\r\n",
        "x = [[model.add_var(var_type=INTEGER, name='No. of ads {} for {}'.format(exp_name[i][j], mag_name[i])) for j in EXP[i]] for i in MAG]\r\n",
        "y = [[model.add_var(var_type=BINARY, name='Use ads {} for {}'.format(exp_name[i][j], mag_name[i])) for j in EXP[i]] for i in MAG]\r\n",
        "\r\n",
        "# objective function\r\n",
        "model.objective = maximize(xsum(exp_value[i][j] * x[i][j] for j in EXP[i] for i in MAG))\r\n",
        "\r\n",
        "# constraint\r\n",
        "model += xsum(cost * x[i][j] for j in EXP[i] for i in MAG) <= budget\r\n",
        "\r\n",
        "for i in MAG:\r\n",
        "  for j in EXP[i]:\r\n",
        "    model += x[i][j] <= exp_num[i][j] * y[i][j]\r\n",
        "    \r\n",
        "    if j > 0:\r\n",
        "      model += x[i][j - 1] >= exp_num[i][j - 1] * y[i][j]\r\n",
        "\r\n",
        "# for constr in model.constrs:\r\n",
        "#   print(constr)\r\n",
        "    \r\n",
        "# optimizing\r\n",
        "status = model.optimize()\r\n",
        "if status == OptimizationStatus.OPTIMAL:\r\n",
        "  print('Optimal solution cost {} found'.format(model.objective_value))\r\n",
        "elif status == OptimizationStatus.FEASIBLE:\r\n",
        "  print('Sol.cost {} found, best possible: {}'.format(model.objective_value, model.objective_bound))\r\n",
        "elif status == OptimizationStatus.NO_SOLUTION_FOUND:\r\n",
        "  print('No feasible solution found, lower bound is: {}'.format(model.objective_bound))\r\n",
        "else:\r\n",
        "  print('Infeasible')\r\n",
        "    \r\n",
        "if status == OptimizationStatus.OPTIMAL or status == OptimizationStatus.FEASIBLE:\r\n",
        "  for v in model.vars:\r\n",
        "    if abs(v.x) > 1e-6: # only printing non-zeros\r\n",
        "      print('{} : {}'.format(v.name, v.x))\r\n",
        "    \r\n",
        "# Check\r\n",
        "print('\\nCheck results')\r\n",
        "for i in MAG:\r\n",
        "  print('No. of ads for {}: {}'.format(mag_name[i], sum([x[i][j].x for j in EXP[i]])))\r\n",
        "print('Total cost: {} <= {}'.format(sum([1000 * x[i][j].x for j in EXP[i] for i in MAG]), budget))"
      ],
      "execution_count": null,
      "outputs": [
        {
          "output_type": "stream",
          "text": [
            "Optimal solution cost 146000.0 found\n",
            "No. of ads 1-6 for Inside Jocks : 6.0\n",
            "No. of ads 7-10 for Inside Jocks : 2.0\n",
            "No. of ads 1-4 for Family Square : 4.0\n",
            "No. of ads 5-12 for Family Square : 8.0\n",
            "Use ads 1-6 for Inside Jocks : 1.0\n",
            "Use ads 7-10 for Inside Jocks : 1.0\n",
            "Use ads 1-4 for Family Square : 1.0\n",
            "Use ads 5-12 for Family Square : 1.0\n",
            "\n",
            "Check results\n",
            "No. of ads for Inside Jocks: 8.0\n",
            "No. of ads for Family Square: 12.0\n",
            "Total cost: 20000.0 <= 20000\n"
          ],
          "name": "stdout"
        }
      ]
    },
    {
      "cell_type": "markdown",
      "metadata": {
        "id": "ZwHocLKp-klE"
      },
      "source": [
        "# Lockbox (Payment Process) Problem"
      ]
    },
    {
      "cell_type": "code",
      "metadata": {
        "colab": {
          "base_uri": "https://localhost:8080/"
        },
        "id": "UY5W6MIB-kps",
        "outputId": "4f927f97-f052-49db-9f4d-ade9f6d544de"
      },
      "source": [
        "# Lockbox (payment process) problem\r\n",
        "# minimize cost\r\n",
        "\r\n",
        "region_name = ['West', 'Midwest', 'East', 'South']\r\n",
        "REGION = range(len(region_name))\r\n",
        "region_payment = [70000, 50000, 60000, 40000] # payment per day\r\n",
        "\r\n",
        "city_name = ['Los Angeles', 'Chicago', 'New York', 'Atlanta']\r\n",
        "CITY = range(len(city_name))\r\n",
        "\r\n",
        "dist = [[2, 6, 8, 8], [6, 2, 5, 5], [8, 5, 2, 5], [8, 5, 5, 2]] # days of mailing payment, region -> city\r\n",
        "\r\n",
        "int_rate = 0.2 # annual interest rate for investment\r\n",
        "lockbox_cost = 50000 # per city\r\n",
        "\r\n",
        "model = Model()\r\n",
        "\r\n",
        "# decision variables\r\n",
        "x = [[model.add_var(var_type=INTEGER, name='Amount of payment from {} to {}'.format(region_name[i], city_name[j])) for j in CITY] for i in REGION]\r\n",
        "y = [model.add_var(var_type=BINARY, name='Build lockbox in {}'.format(city_name[j])) for j in CITY]\r\n",
        "\r\n",
        "# objective function\r\n",
        "model.objective = minimize((int_rate * xsum(dist[i][j] * x[i][j] for j in CITY for i in REGION)) + (lockbox_cost * xsum(y[j] for j in CITY)))\r\n",
        "\r\n",
        "# constraint\r\n",
        "for i in REGION:\r\n",
        "  model += xsum(x[i][j] for j in CITY) == region_payment[i]\r\n",
        "  \r\n",
        "for j in CITY:\r\n",
        "  model += xsum(x[i][j] for i in REGION) <= 1000000 * y[j]\r\n",
        "\r\n",
        "# for constr in model.constrs:\r\n",
        "#   print(constr)\r\n",
        "    \r\n",
        "# optimizing\r\n",
        "status = model.optimize()\r\n",
        "if status == OptimizationStatus.OPTIMAL:\r\n",
        "  print('Optimal solution cost {} found'.format(model.objective_value))\r\n",
        "elif status == OptimizationStatus.FEASIBLE:\r\n",
        "  print('Sol.cost {} found, best possible: {}'.format(model.objective_value, model.objective_bound))\r\n",
        "elif status == OptimizationStatus.NO_SOLUTION_FOUND:\r\n",
        "  print('No feasible solution found, lower bound is: {}'.format(model.objective_bound))\r\n",
        "else:\r\n",
        "  print('Infeasible')\r\n",
        "    \r\n",
        "if status == OptimizationStatus.OPTIMAL or status == OptimizationStatus.FEASIBLE:\r\n",
        "  for v in model.vars:\r\n",
        "    if abs(v.x) > 1e-6: # only printing non-zeros\r\n",
        "      print('{} : {}'.format(v.name, v.x))\r\n",
        "    \r\n",
        "# Check\r\n",
        "print('\\nCheck results')\r\n",
        "for i in REGION:\r\n",
        "  print('Total payment from {}: {} == {}'.format(region_name[i], sum([x[i][j].x for j in CITY]), region_payment[i]))"
      ],
      "execution_count": null,
      "outputs": [
        {
          "output_type": "stream",
          "text": [
            "Optimal solution cost 242000.0 found\n",
            "Amount of payment from West to Los Angeles : 70000.0\n",
            "Amount of payment from Midwest to New York : 50000.0\n",
            "Amount of payment from East to New York : 60000.0\n",
            "Amount of payment from South to New York : 40000.0\n",
            "Build lockbox in Los Angeles : 1.0\n",
            "Build lockbox in New York : 1.0\n",
            "\n",
            "Check results\n",
            "Total payment from West: 70000.0 == 70000\n",
            "Total payment from Midwest: 50000.0 == 50000\n",
            "Total payment from East: 60000.0 == 60000\n",
            "Total payment from South: 40000.0 == 40000\n"
          ],
          "name": "stdout"
        }
      ]
    },
    {
      "cell_type": "markdown",
      "metadata": {
        "id": "3tVHnS1J_Iyc"
      },
      "source": [
        "# Either-Or Problem"
      ]
    },
    {
      "cell_type": "code",
      "metadata": {
        "colab": {
          "base_uri": "https://localhost:8080/"
        },
        "id": "bgz91ugf_I3e",
        "outputId": "c08b4504-f44d-4c45-c342-b890c8e17e43"
      },
      "source": [
        "# Either-Or problem\r\n",
        "# maximize profit\r\n",
        "\r\n",
        "auto_name = ['Compact', 'Midsize', 'Large']\r\n",
        "AUTO = range(len(auto_name))\r\n",
        "req_steel = [1.5, 3, 5] # tons per unit\r\n",
        "req_labor = [30, 25, 40] # hrs per unit\r\n",
        "profit = [2000, 3000, 4000] # dollar per unit\r\n",
        "\r\n",
        "avail_steel = 6000\r\n",
        "avail_labor = 60000\r\n",
        "\r\n",
        "min_production = 1000 # if produce, need to be at least 1000 cars\r\n",
        "\r\n",
        "model = Model()\r\n",
        "\r\n",
        "# decision variables\r\n",
        "x = [model.add_var(var_type=INTEGER, name='Amount of {} production'.format(auto_name[i])) for i in AUTO]\r\n",
        "y = [model.add_var(var_type=BINARY, name='Build {}'.format(auto_name[i])) for i in AUTO]\r\n",
        "\r\n",
        "# objective function\r\n",
        "model.objective = maximize(xsum(profit[i] * x[i] for i in AUTO))\r\n",
        "\r\n",
        "# constraint\r\n",
        "for i in AUTO:\r\n",
        "  model += xsum(req_steel[i] * x[i] for i in AUTO) <= avail_steel\r\n",
        "  model += xsum(req_labor[i] * x[i] for i in AUTO) <= avail_labor\r\n",
        "  \r\n",
        "  model += x[i] >= min_production * y[i]\r\n",
        "  model += x[i] <= 100000 * y[i]\r\n",
        "\r\n",
        "# for constr in model.constrs:\r\n",
        "#   print(constr)\r\n",
        "    \r\n",
        "# optimizing\r\n",
        "status = model.optimize()\r\n",
        "if status == OptimizationStatus.OPTIMAL:\r\n",
        "  print('Optimal solution cost {} found'.format(model.objective_value))\r\n",
        "elif status == OptimizationStatus.FEASIBLE:\r\n",
        "  print('Sol.cost {} found, best possible: {}'.format(model.objective_value, model.objective_bound))\r\n",
        "elif status == OptimizationStatus.NO_SOLUTION_FOUND:\r\n",
        "  print('No feasible solution found, lower bound is: {}'.format(model.objective_bound))\r\n",
        "else:\r\n",
        "  print('Infeasible')\r\n",
        "    \r\n",
        "if status == OptimizationStatus.OPTIMAL or status == OptimizationStatus.FEASIBLE:\r\n",
        "  for v in model.vars:\r\n",
        "    print('{} : {}'.format(v.name, v.x))\r\n",
        "    \r\n",
        "# Check\r\n",
        "print('\\nCheck results')\r\n",
        "for i in AUTO:\r\n",
        "  print('Total steel used: {} <= {}'.format(sum([req_steel[i] * x[i].x for i in AUTO]), avail_steel))\r\n",
        "  print('Total labor used: {} <= {}'.format(sum([req_labor[i] * x[i].x for i in AUTO]), avail_labor))"
      ],
      "execution_count": null,
      "outputs": [
        {
          "output_type": "stream",
          "text": [
            "Optimal solution cost 6000000.0 found\n",
            "Amount of Compact production : 0.0\n",
            "Amount of Midsize production : 2000.0\n",
            "Amount of Large production : 0.0\n",
            "Build Compact : 0.0\n",
            "Build Midsize : 1.0\n",
            "Build Large : 0.0\n",
            "\n",
            "Check results\n",
            "Total steel used: 6000.0 <= 6000\n",
            "Total labor used: 50000.0 <= 60000\n",
            "Total steel used: 6000.0 <= 6000\n",
            "Total labor used: 50000.0 <= 60000\n",
            "Total steel used: 6000.0 <= 6000\n",
            "Total labor used: 50000.0 <= 60000\n"
          ],
          "name": "stdout"
        }
      ]
    },
    {
      "cell_type": "markdown",
      "metadata": {
        "id": "94HLWR_Y_9PB"
      },
      "source": [
        "# Multiperiod Work Scheduling"
      ]
    },
    {
      "cell_type": "code",
      "metadata": {
        "id": "m2Mwkn5Z_9UL",
        "colab": {
          "base_uri": "https://localhost:8080/"
        },
        "outputId": "4ab8b1ea-239d-4e9a-eb19-d55b32478631"
      },
      "source": [
        "# Multiperiod Work Scheduling\r\n",
        "# minimize cost\r\n",
        "\r\n",
        "month_name = ['January', 'February', 'March', 'April', 'May']\r\n",
        "MONTH = range(len(month_name))\r\n",
        "service_demand = [6000, 7000, 8000, 9500, 11000] # hrs / month\r\n",
        "\r\n",
        "worker_init = 50\r\n",
        "worker_output = 160 # time worker can work per month\r\n",
        "worker_wage = 2000\r\n",
        "\r\n",
        "# use 1 month to train\r\n",
        "train_supervize = 50 # req experienced worker time per month\r\n",
        "train_wage = 1000\r\n",
        "\r\n",
        "turnover_rate = 0.05 # worker resign rate\r\n",
        "\r\n",
        "model = Model()\r\n",
        "\r\n",
        "# decision variables\r\n",
        "x = [model.add_var(var_type=INTEGER, name='No. of worker in month {}'.format(month_name[i])) for i in MONTH]\r\n",
        "y = [model.add_var(var_type=INTEGER, name='No. of trainee in month {}'.format(month_name[i])) for i in MONTH]\r\n",
        "\r\n",
        "# objective function\r\n",
        "model.objective = minimize(xsum((worker_wage * x[i]) + (train_wage * y[i]) for i in MONTH))\r\n",
        "\r\n",
        "# constraint\r\n",
        "for i in MONTH:\r\n",
        "    model += (worker_output * x[i]) - (train_supervize * y[i]) >= service_demand[i]\r\n",
        "    \r\n",
        "    if i == 0:\r\n",
        "        model += x[i] == 50\r\n",
        "        \r\n",
        "    else:\r\n",
        "        model += x[i] >= (1 - turnover_rate) * x[i - 1]\r\n",
        "        model += x[i] <= (1 - turnover_rate) * x[i - 1] + y[i - 1]\r\n",
        "\r\n",
        "# for constr in model.constrs:\r\n",
        "#   print(constr)\r\n",
        "    \r\n",
        "# optimizing\r\n",
        "status = model.optimize()\r\n",
        "if status == OptimizationStatus.OPTIMAL:\r\n",
        "    print('Optimal solution cost {} found'.format(model.objective_value))\r\n",
        "elif status == OptimizationStatus.FEASIBLE:\r\n",
        "    print('Sol.cost {} found, best possible: {}'.format(model.objective_value, model.objective_bound))\r\n",
        "elif status == OptimizationStatus.NO_SOLUTION_FOUND:\r\n",
        "    print('No feasible solution found, lower bound is: {}'.format(model.objective_bound))\r\n",
        "else:\r\n",
        "    print('Infeasible')\r\n",
        "    \r\n",
        "if status == OptimizationStatus.OPTIMAL or status == OptimizationStatus.FEASIBLE:\r\n",
        "    for v in model.vars:\r\n",
        "        print('{} : {}'.format(v.name, v.x))\r\n",
        "        \r\n",
        "    # Check\r\n",
        "    print('\\nCheck results')\r\n",
        "    for i in MONTH:\r\n",
        "        print('No. of worker hrs in month {}: {} >= {}'.format(month_name[i], (worker_output * x[i].x) - (train_supervize * y[i].x), service_demand[i]))\r\n",
        "    \r\n",
        "    for i in MONTH[1:]:\r\n",
        "      print('No. of turnover in month {}: {} >= {}'.format(month_name[i], x[i - 1].x + y[i - 1].x - x[i].x, round(turnover_rate * x[i - 1].x, 2)))"
      ],
      "execution_count": null,
      "outputs": [
        {
          "output_type": "stream",
          "text": [
            "Optimal solution cost 600000.0 found\n",
            "No. of worker in month January : 50.0\n",
            "No. of worker in month February : 48.0\n",
            "No. of worker in month March : 54.0\n",
            "No. of worker in month April : 63.0\n",
            "No. of worker in month May : 69.0\n",
            "No. of trainee in month January : 1.0\n",
            "No. of trainee in month February : 9.0\n",
            "No. of trainee in month March : 12.0\n",
            "No. of trainee in month April : 10.0\n",
            "No. of trainee in month May : 0.0\n",
            "\n",
            "Check results\n",
            "No. of worker hrs in month January: 7950.0 >= 6000\n",
            "No. of worker hrs in month February: 7230.0 >= 7000\n",
            "No. of worker hrs in month March: 8040.0 >= 8000\n",
            "No. of worker hrs in month April: 9580.0 >= 9500\n",
            "No. of worker hrs in month May: 11040.0 >= 11000\n",
            "No. of turnover in month February: 3.0 >= 2.5\n",
            "No. of turnover in month March: 3.0 >= 2.4\n",
            "No. of turnover in month April: 3.0 >= 2.7\n",
            "No. of turnover in month May: 4.0 >= 3.15\n"
          ],
          "name": "stdout"
        }
      ]
    },
    {
      "cell_type": "markdown",
      "metadata": {
        "id": "J0Nb3zwLAeJo"
      },
      "source": [
        "# College Apparel"
      ]
    },
    {
      "cell_type": "code",
      "metadata": {
        "colab": {
          "base_uri": "https://localhost:8080/"
        },
        "id": "VFjRPuxSAeQc",
        "outputId": "ed632166-237b-42f7-f395-247612c4d4ea"
      },
      "source": [
        "# College Apparel\r\n",
        "# maximize profit\r\n",
        "\r\n",
        "shirt_name = ['Jersey', 'Sweatshirt', 'Red', 'Black', 'White']\r\n",
        "SHIRT = range(len(shirt_name))\r\n",
        "shirt_cost = [11.18, 20.11, 16.99, 16.99, 16.99]\r\n",
        "\r\n",
        "style_name = ['Criss Cross', 'Crop Top', 'Halter', 'Jersey Set', 'Hoodie', 'Shoulder']\r\n",
        "STYLE = range(len(style_name))\r\n",
        "style_price = [45, 40, 45, 45, 50 ,45]\r\n",
        "\r\n",
        "budget = 300\r\n",
        "\r\n",
        "model = Model()\r\n",
        "\r\n",
        "# decision variables\r\n",
        "x = [[model.add_var(var_type=INTEGER, name='{}_{}'.format(shirt_name[i], style_name[j])) for j in STYLE] for i in SHIRT]\r\n",
        "\r\n",
        "# objective function\r\n",
        "model.objective = maximize(xsum((style_price[j] - shirt_cost[i]) * x[i][j] for j in STYLE for i in SHIRT))\r\n",
        "\r\n",
        "# constraint\r\n",
        "model += xsum(shirt_cost[i] * x[i][j] for j in STYLE for i in SHIRT) <= budget\r\n",
        "\r\n",
        "model += xsum(x[i][3] for i in SHIRT if i != 0) == 0\r\n",
        "model += xsum(x[i][4] for i in SHIRT if i != 1) == 0\r\n",
        "model += xsum(x[0][j] for j in STYLE if j != 3) == 0\r\n",
        "model += xsum(x[1][j] for j in STYLE if j != 4) == 0\r\n",
        "\r\n",
        "for i in SHIRT:\r\n",
        "  model += xsum(x[i][j] for j in STYLE) >= 2\r\n",
        "for j in STYLE:\r\n",
        "  model += xsum(x[i][j] for i in SHIRT) >= 2\r\n",
        "    \r\n",
        "model += xsum(x[i][3] for i in SHIRT) <= 5\r\n",
        "\r\n",
        "for i in [2, 3, 4]:\r\n",
        "  model += x[i][1] >= 2\r\n",
        "    \r\n",
        "model += xsum(x[3][j] for j in STYLE) <= 5\r\n",
        "model += xsum(x[i][1] for i in SHIRT) >= 6\r\n",
        "\r\n",
        "# for constr in model.constrs:\r\n",
        "#   print(constr)\r\n",
        "    \r\n",
        "# optimizing\r\n",
        "status = model.optimize()\r\n",
        "if status == OptimizationStatus.OPTIMAL:\r\n",
        "  print('Optimal solution cost {} found'.format(model.objective_value))\r\n",
        "elif status == OptimizationStatus.FEASIBLE:\r\n",
        "  print('Sol.cost {} found, best possible: {}'.format(model.objective_value, model.objective_bound))\r\n",
        "elif status == OptimizationStatus.NO_SOLUTION_FOUND:\r\n",
        "  print('No feasible solution found, lower bound is: {}'.format(model.objective_bound))\r\n",
        "else:\r\n",
        "  print('Infeasible')\r\n",
        "    \r\n",
        "if status == OptimizationStatus.OPTIMAL or status == OptimizationStatus.FEASIBLE:\r\n",
        "  for v in model.vars:\r\n",
        "    if abs(v.x) > 1e-6: # only printing non-zeros\r\n",
        "      print('{} : {}'.format(v.name, v.x))\r\n",
        "          \r\n",
        "  print('\\nCheck results')\r\n",
        "  print('Total cost: {} <= {}'.format(sum([shirt_cost[i] * x[i][j].x for j in STYLE for i in SHIRT]), budget))"
      ],
      "execution_count": null,
      "outputs": [
        {
          "output_type": "stream",
          "text": [
            "Optimal solution cost 534.9999999999999 found\n",
            "Jersey_Jersey Set : 5.0\n",
            "Sweatshirt_Hoodie : 2.0\n",
            "Red_Criss Cross : 2.0\n",
            "Red_Crop Top : 2.0\n",
            "Red_Halter : 2.0\n",
            "Red_Shoulder : 2.0\n",
            "Black_Crop Top : 2.0\n",
            "White_Crop Top : 2.0\n",
            "\n",
            "Check results\n",
            "Total cost: 300.0 <= 300\n"
          ],
          "name": "stdout"
        }
      ]
    }
  ]
}