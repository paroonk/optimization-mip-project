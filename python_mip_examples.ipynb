{
  "nbformat": 4,
  "nbformat_minor": 0,
  "metadata": {
    "colab": {
      "name": "python-mip-examples.ipynb",
      "provenance": [],
      "collapsed_sections": [],
      "authorship_tag": "ABX9TyMDLWfkxR4FtNIgoxEtHGRQ",
      "include_colab_link": true
    },
    "kernelspec": {
      "name": "python3",
      "display_name": "Python 3"
    }
  },
  "cells": [
    {
      "cell_type": "markdown",
      "metadata": {
        "id": "view-in-github",
        "colab_type": "text"
      },
      "source": [
        "<a href=\"https://colab.research.google.com/github/paroonk/optimization-mip-project/blob/main/python_mip_examples.ipynb\" target=\"_parent\"><img src=\"https://colab.research.google.com/assets/colab-badge.svg\" alt=\"Open In Colab\"/></a>"
      ]
    },
    {
      "cell_type": "markdown",
      "metadata": {
        "id": "Kw8ojRHC-Uob"
      },
      "source": [
        "### Import\r\n"
      ]
    },
    {
      "cell_type": "code",
      "metadata": {
        "colab": {
          "base_uri": "https://localhost:8080/"
        },
        "id": "oYGW2CXP6vKI",
        "outputId": "64eae6ad-bbdb-4f84-b1e0-d86af5917526"
      },
      "source": [
        "!pip install mip\r\n",
        "import numpy as np\r\n",
        "from mip import *"
      ],
      "execution_count": null,
      "outputs": [
        {
          "output_type": "stream",
          "text": [
            "Collecting mip\n",
            "\u001b[?25l  Downloading https://files.pythonhosted.org/packages/e5/7c/615a417b8b74dde4c3573f09c79612e3e0ed8c9b9488daf67e86cde350d2/mip-1.13.0-py3-none-any.whl (48.0MB)\n",
            "\u001b[K     |████████████████████████████████| 48.0MB 74kB/s \n",
            "\u001b[?25hRequirement already satisfied: cffi in /usr/local/lib/python3.7/dist-packages (from mip) (1.14.5)\n",
            "Requirement already satisfied: pycparser in /usr/local/lib/python3.7/dist-packages (from cffi->mip) (2.20)\n",
            "Installing collected packages: mip\n",
            "Successfully installed mip-1.13.0\n"
          ],
          "name": "stdout"
        }
      ]
    },
    {
      "cell_type": "markdown",
      "metadata": {
        "id": "2roxk4b57WAW"
      },
      "source": [
        "# Basic Linear Programming"
      ]
    },
    {
      "cell_type": "code",
      "metadata": {
        "id": "8xe3PTf17KfA",
        "colab": {
          "base_uri": "https://localhost:8080/"
        },
        "outputId": "1fb35650-cbcb-4a52-f510-c3c110941bb6"
      },
      "source": [
        "activity = ['pushup', 'running']\r\n",
        "time_used = [0.2, 10]\r\n",
        "calories_burned = [3, 130]\r\n",
        "limit_time = 10\r\n",
        "\r\n",
        "n, I = len(activity), range(len(activity))\r\n",
        "\r\n",
        "model = Model()\r\n",
        "\r\n",
        "# Decision variables\r\n",
        "x = [model.add_var(var_type=CONTINUOUS, name=activity[i]) for i in I]\r\n",
        "\r\n",
        "# Objective\r\n",
        "model.objective = maximize(xsum(calories_burned[i] * x[i] for i in I ))\r\n",
        "\r\n",
        "# Constraints\r\n",
        "model += xsum(time_used[i] * x[i] for i in I) <= limit_time\r\n",
        "\r\n",
        "# Optimize and Result\r\n",
        "status = model.optimize()\r\n",
        "if status == OptimizationStatus.OPTIMAL:\r\n",
        "  print('Optimal solution cost {} found'.format(model.objective_value))\r\n",
        "elif status == OptimizationStatus.FEASIBLE:\r\n",
        "  print('Sol.cost {} found, best possible: {}'.format(model.objective_value, model.objective_bound))\r\n",
        "elif status == OptimizationStatus.NO_SOLUTION_FOUND:\r\n",
        "  print('No feasible solution found, lower bound is: {}'.format(model.objective_bound))\r\n",
        "else:\r\n",
        "  print('Infeasible')\r\n",
        "    \r\n",
        "if status == OptimizationStatus.OPTIMAL or status == OptimizationStatus.FEASIBLE:\r\n",
        "  for v in model.vars:\r\n",
        "    # if abs(v.x) > 1e-6: # only printing non-zeros\r\n",
        "      print('{} : {}'.format(v.name, v.x))\r\n",
        "\r\n",
        "# Check\r\n",
        "print('\\nCheck results')\r\n",
        "print('Total time used: {} <= {}'.format(sum(time_used[i] * x[i].x for i in I), limit_time))"
      ],
      "execution_count": null,
      "outputs": [
        {
          "output_type": "stream",
          "text": [
            "Optimal solution cost 150.0 found\n",
            "pushup : 50.0\n",
            "running : 0.0\n",
            "\n",
            "Check results\n",
            "Total time used: 10.0 <= 10\n"
          ],
          "name": "stdout"
        }
      ]
    },
    {
      "cell_type": "markdown",
      "metadata": {
        "id": "R1r-NSb17tJ9"
      },
      "source": [
        "# The 0/1 Knapsack Problem\r\n",
        "\r\n",
        "As a first example, consider the solution of the 0/1 knapsack problem: given a set I of items, each one with a weight wi and estimated profit pi, one wants to select a subset with maximum profit such that the summation of the weights of the selected items is less or equal to the knapsack capacity c. Considering a set of decision binary variables xi that receive value 1 if the i-th item is selected, or 0 if not."
      ]
    },
    {
      "cell_type": "code",
      "metadata": {
        "colab": {
          "base_uri": "https://localhost:8080/"
        },
        "id": "2oVf-HTg9rLy",
        "outputId": "38785178-c290-4897-841e-c6b5c277fbf0"
      },
      "source": [
        "p = [10, 13, 18, 31, 7, 15]\r\n",
        "w = [11, 15, 20, 35, 10, 33]\r\n",
        "limit_w = 47\r\n",
        "I = range(len(w))\r\n",
        "\r\n",
        "model = Model()\r\n",
        "\r\n",
        "# decision variables\r\n",
        "x = [model.add_var(var_type=BINARY) for i in I]\r\n",
        "\r\n",
        "# objective function\r\n",
        "model.objective = maximize(xsum(p[i] * x[i] for i in I))\r\n",
        "\r\n",
        "# constraint\r\n",
        "model += xsum(w[i] * x[i] for i in I) <= limit_w\r\n",
        "    \r\n",
        "# optimizing\r\n",
        "status = model.optimize()\r\n",
        "\r\n",
        "if status == OptimizationStatus.OPTIMAL:\r\n",
        "  print('Optimal solution cost {} found'.format(model.objective_value))\r\n",
        "elif status == OptimizationStatus.FEASIBLE:\r\n",
        "  print('Sol.cost {} found, best possible: {}'.format(model.objective_value, model.objective_bound))\r\n",
        "elif status == OptimizationStatus.NO_SOLUTION_FOUND:\r\n",
        "  print('No feasible solution found, lower bound is: {}'.format(model.objective_bound))\r\n",
        "else:\r\n",
        "  print('Infeasible')\r\n",
        "    \r\n",
        "if status == OptimizationStatus.OPTIMAL or status == OptimizationStatus.FEASIBLE:\r\n",
        "  for v in model.vars:\r\n",
        "    # if abs(v.x) > 1e-6: # only printing non-zeros\r\n",
        "      print('{} : {}'.format(v.name, v.x))\r\n",
        "\r\n",
        "# Check\r\n",
        "print('\\nCheck results')\r\n",
        "print('Total weight used: {} <= {}'.format(sum(w[i] * x[i].x for i in I), limit_w))"
      ],
      "execution_count": null,
      "outputs": [
        {
          "output_type": "stream",
          "text": [
            "Optimal solution cost 41.0 found\n",
            "var(0) : 1.0\n",
            "var(1) : 0.0\n",
            "var(2) : 0.0\n",
            "var(3) : 1.0\n",
            "var(4) : 0.0\n",
            "var(5) : 0.0\n",
            "\n",
            "Check results\n",
            "Total weight used: 46.0 <= 47\n"
          ],
          "name": "stdout"
        }
      ]
    },
    {
      "cell_type": "markdown",
      "metadata": {
        "id": "sjYT_M-p-izl"
      },
      "source": [
        "# The Traveling Salesman Problem\r\n",
        "The traveling salesman problem (TSP) is one of the most studied combinatorial optimization problems, with the first computational studies dating back to the 50s. To to illustrate this problem, consider that you will spend some time in Belgium and wish to visit some of its main tourist attractions, depicted in the map bellow:\r\n",
        "\r\n",
        "![](https://docs.python-mip.com/en/latest/_images/belgium-tourism-14.png)\r\n",
        "\r\n",
        "You want to find the shortest possible tour to visit all these places. More formally, considering n points V={0,…,n−1} and a distance matrix Dn×n with elements ci,j∈R+, a solution consists in a set of exactly n (origin, destination) pairs indicating the itinerary of your trip."
      ]
    },
    {
      "cell_type": "code",
      "metadata": {
        "colab": {
          "base_uri": "https://localhost:8080/"
        },
        "id": "OFBgKIMd-jZE",
        "outputId": "68ba9c53-0b2e-4142-cf5a-97f20ce54044"
      },
      "source": [
        "from itertools import product\r\n",
        "from sys import stdout as out\r\n",
        "\r\n",
        "# names of places to visit\r\n",
        "places = ['Antwerp', 'Bruges', 'C-Mine', 'Dinant', 'Ghent',\r\n",
        "          'Grand-Place de Bruxelles', 'Hasselt', 'Leuven',\r\n",
        "          'Mechelen', 'Mons', 'Montagne de Bueren', 'Namur',\r\n",
        "          'Remouchamps', 'Waterloo']\r\n",
        "\r\n",
        "# distances in an upper triangular matrix\r\n",
        "dists = [[83, 81, 113, 52, 42, 73, 44, 23, 91, 105, 90, 124, 57],\r\n",
        "         [161, 160, 39, 89, 151, 110, 90, 99, 177, 143, 193, 100],\r\n",
        "         [90, 125, 82, 13, 57, 71, 123, 38, 72, 59, 82],\r\n",
        "         [123, 77, 81, 71, 91, 72, 64, 24, 62, 63],\r\n",
        "         [51, 114, 72, 54, 69, 139, 105, 155, 62],\r\n",
        "         [70, 25, 22, 52, 90, 56, 105, 16],\r\n",
        "         [45, 61, 111, 36, 61, 57, 70],\r\n",
        "         [23, 71, 67, 48, 85, 29],\r\n",
        "         [74, 89, 69, 107, 36],\r\n",
        "         [117, 65, 125, 43],\r\n",
        "         [54, 22, 84],\r\n",
        "         [60, 44],\r\n",
        "         [97]]\r\n",
        "\r\n",
        "# number of nodes and list of vertices\r\n",
        "n, V = len(places), set(range(len(places)))\r\n",
        "\r\n",
        "# distances matrix\r\n",
        "c = [[0 if i == j\r\n",
        "      else dists[i][j-i-1] if j > i\r\n",
        "      else dists[j][i-j-1]\r\n",
        "      for j in V] for i in V]\r\n",
        "\r\n",
        "model = Model()\r\n",
        "\r\n",
        "# decision variables\r\n",
        "# binary variables indicating if arc (i,j) is used on the route or not\r\n",
        "x = [[model.add_var(var_type=BINARY) for j in V] for i in V]\r\n",
        "\r\n",
        "# continuous variable to prevent subtours: each city will have a\r\n",
        "# different sequential id in the planned route except the first one\r\n",
        "y = [model.add_var() for i in V]\r\n",
        "\r\n",
        "# objective function\r\n",
        "model.objective = minimize(xsum(c[i][j] * x[i][j] for j in V for i in V))\r\n",
        "\r\n",
        "# constraint\r\n",
        "# leave each city only once\r\n",
        "for i in V:\r\n",
        "  model += xsum(x[i][j] for j in V - {i}) == 1\r\n",
        "\r\n",
        "# enter each city only once\r\n",
        "for i in V:\r\n",
        "  model += xsum(x[j][i] for j in V - {i}) == 1\r\n",
        "\r\n",
        "# subtour elimination\r\n",
        "for (i, j) in product(V - {0}, V - {0}):\r\n",
        "  if i != j:\r\n",
        "    model += y[i] - (n + 1) * x[i][j] >= y[j] - n\r\n",
        "    \r\n",
        "# optimizing\r\n",
        "status = model.optimize()\r\n",
        "if status == OptimizationStatus.OPTIMAL:\r\n",
        "  print('Optimal solution cost {} found'.format(model.objective_value))\r\n",
        "elif status == OptimizationStatus.FEASIBLE:\r\n",
        "  print('Sol.cost {} found, best possible: {}'.format(model.objective_value, model.objective_bound))\r\n",
        "elif status == OptimizationStatus.NO_SOLUTION_FOUND:\r\n",
        "  print('No feasible solution found, lower bound is: {}'.format(model.objective_bound))\r\n",
        "else:\r\n",
        "  print('Infeasible')\r\n",
        "\r\n",
        "# checking if a solution was found\r\n",
        "if model.num_solutions:\r\n",
        "  out.write('route with total distance %g found:\\n%s' % (model.objective_value, places[0]))\r\n",
        "  nc = 0\r\n",
        "  start_c = nc\r\n",
        "  remain_c = V - {nc}\r\n",
        "  while True:\r\n",
        "    nc = [i for i in V if x[nc][i].x >= 0.99][0]\r\n",
        "    out.write(' -> %s' % places[nc])\r\n",
        "    remain_c = remain_c - {nc}\r\n",
        "    if nc == start_c:\r\n",
        "      if len(remain_c) == 0:\r\n",
        "        break\r\n",
        "      else:\r\n",
        "        nc = list(remain_c)[0]\r\n",
        "        start_c = nc\r\n",
        "        out.write('\\n%s' % places[nc])\r\n",
        "  out.write('\\n')"
      ],
      "execution_count": null,
      "outputs": [
        {
          "output_type": "stream",
          "text": [
            "Optimal solution cost 547.0 found\n",
            "route with total distance 547 found:\n",
            "Antwerp -> Bruges -> Ghent -> Grand-Place de Bruxelles -> Waterloo -> Mons -> Namur -> Dinant -> Remouchamps -> Montagne de Bueren -> C-Mine -> Hasselt -> Leuven -> Mechelen -> Antwerp\n"
          ],
          "name": "stdout"
        }
      ]
    },
    {
      "cell_type": "markdown",
      "metadata": {
        "id": "3gqOY4DP-jtf"
      },
      "source": [
        "# n-Queens\r\n",
        "In the n-queens puzzle n chess queens should to be placed in a board with n×n cells in a way that no queen can attack another, i.e., there must be at most one queen per row, column and diagonal. This is a constraint satisfaction problem: any feasible solution is acceptable and no objective function is defined."
      ]
    },
    {
      "cell_type": "code",
      "metadata": {
        "colab": {
          "base_uri": "https://localhost:8080/"
        },
        "id": "iymAXmj3-j1q",
        "outputId": "cc6a0498-06f9-4f7b-ccb3-d2d8c14a2897"
      },
      "source": [
        "from sys import stdout as out\r\n",
        "\r\n",
        "# number of queens\r\n",
        "n = 40\r\n",
        "N = range(n)\r\n",
        "\r\n",
        "model = Model()\r\n",
        "\r\n",
        "# decision variables\r\n",
        "x = [[model.add_var(var_type=BINARY, name='x({},{})'.format(i, j)) for j in N] for i in N]\r\n",
        "\r\n",
        "# objective function\r\n",
        "model.objective = maximize(xsum(x[i][j] for j in N for i in N))\r\n",
        "\r\n",
        "# constraint\r\n",
        "# one per row\r\n",
        "for i in N:\r\n",
        "  model += xsum(x[i][j] for j in N) <= 1, 'row({})'.format(i)\r\n",
        "\r\n",
        "# one per column\r\n",
        "for j in N:\r\n",
        "  model += xsum(x[i][j] for i in N) <= 1, 'col({})'.format(j)\r\n",
        "\r\n",
        "# diagonal \\\r\n",
        "for p, k in enumerate(range(2 - n, n - 2 + 1)):\r\n",
        "  model += xsum(x[i][i - k] for i in N if 0 <= i - k < n) <= 1, 'diag1({})'.format(p)\r\n",
        "\r\n",
        "# diagonal /\r\n",
        "for p, k in enumerate(range(2 - n, n - 2 + 1)):\r\n",
        "  model += xsum(x[i][-i + k + 3] for i in N if 0 <= -i + k + 3 + 1 < n) <= 1, 'diag2({})'.format(p)\r\n",
        "    \r\n",
        "# optimizing\r\n",
        "status = model.optimize()\r\n",
        "if status == OptimizationStatus.OPTIMAL:\r\n",
        "  print('Optimal solution cost {} found'.format(model.objective_value))\r\n",
        "elif status == OptimizationStatus.FEASIBLE:\r\n",
        "  print('Sol.cost {} found, best possible: {}'.format(model.objective_value, model.objective_bound))\r\n",
        "elif status == OptimizationStatus.NO_SOLUTION_FOUND:\r\n",
        "  print('No feasible solution found, lower bound is: {}'.format(model.objective_bound))\r\n",
        "else:\r\n",
        "  print('Infeasible')\r\n",
        "        \r\n",
        "# checking if a solution was found\r\n",
        "if model.num_solutions:\r\n",
        "  out.write('\\n')\r\n",
        "  for i, v in enumerate(model.vars):\r\n",
        "    out.write('O ' if v.x >= 0.99 else '. ')\r\n",
        "    if i % n == n-1:\r\n",
        "      out.write('\\n')"
      ],
      "execution_count": null,
      "outputs": [
        {
          "output_type": "stream",
          "text": [
            "Optimal solution cost 40.0 found\n",
            "\n",
            ". . . . . . . . . . . . . . . . . . . . . . . . . . . . . . O . . . . . . . . . \n",
            ". . . . . . . . . . . . . O . . . . . . . . . . . . . . . . . . . . . . . . . . \n",
            ". . . . . . . . . . . O . . . . . . . . . . . . . . . . . . . . . . . . . . . . \n",
            ". . . . . . . . . . . . . . . . . . . . . . . . . . . . . . . O . . . . . . . . \n",
            ". . . . . . . . O . . . . . . . . . . . . . . . . . . . . . . . . . . . . . . . \n",
            ". . . . . . . . . . . . . . . . . . . . . . . O . . . . . . . . . . . . . . . . \n",
            ". . . . . . . . . . . . O . . . . . . . . . . . . . . . . . . . . . . . . . . . \n",
            ". . . . . . . . . . . . . . . . . . . . . . . . . . . . . . . . . . . . . . . O \n",
            ". . . . . . . . . . . . . . . . O . . . . . . . . . . . . . . . . . . . . . . . \n",
            ". . . . . . . . . . . . . . . . . . . . . . O . . . . . . . . . . . . . . . . . \n",
            ". . . . . . . . . . . . . . . . . . . . . . . . . . . . . . . . O . . . . . . . \n",
            ". . . . . . . . . . . . . . . . . . . . . . . . . . O . . . . . . . . . . . . . \n",
            ". . . . . . . O . . . . . . . . . . . . . . . . . . . . . . . . . . . . . . . . \n",
            ". . . . O . . . . . . . . . . . . . . . . . . . . . . . . . . . . . . . . . . . \n",
            ". . . . . . . . . . . . . . . . . . . . . . . . O . . . . . . . . . . . . . . . \n",
            ". O . . . . . . . . . . . . . . . . . . . . . . . . . . . . . . . . . . . . . . \n",
            ". . . . . . . . . . O . . . . . . . . . . . . . . . . . . . . . . . . . . . . . \n",
            ". . . . . . . . . . . . . . . . . . . . . . . . . . . . . . . . . O . . . . . . \n",
            ". . . . . . . . . . . . . . . . . . . . . . . . . . . . . . . . . . . . . O . . \n",
            ". . O . . . . . . . . . . . . . . . . . . . . . . . . . . . . . . . . . . . . . \n",
            ". . . . . . . . . . . . . . . . . . . . O . . . . . . . . . . . . . . . . . . . \n",
            ". . . . . . . . . . . . . . . . . . O . . . . . . . . . . . . . . . . . . . . . \n",
            ". . . O . . . . . . . . . . . . . . . . . . . . . . . . . . . . . . . . . . . . \n",
            ". . . . . . . . . . . . . . . . . . . . . O . . . . . . . . . . . . . . . . . . \n",
            ". . . . . . . . . . . . . . . . . . . . . . . . . O . . . . . . . . . . . . . . \n",
            ". . . . . . . . . . . . . . . . . O . . . . . . . . . . . . . . . . . . . . . . \n",
            ". . . . . . . . . . . . . . . O . . . . . . . . . . . . . . . . . . . . . . . . \n",
            ". . . . . . . . . O . . . . . . . . . . . . . . . . . . . . . . . . . . . . . . \n",
            ". . . . . O . . . . . . . . . . . . . . . . . . . . . . . . . . . . . . . . . . \n",
            "O . . . . . . . . . . . . . . . . . . . . . . . . . . . . . . . . . . . . . . . \n",
            ". . . . . . . . . . . . . . . . . . . . . . . . . . . . . . . . . . . O . . . . \n",
            ". . . . . . . . . . . . . . . . . . . O . . . . . . . . . . . . . . . . . . . . \n",
            ". . . . . . . . . . . . . . . . . . . . . . . . . . . . . . . . . . O . . . . . \n",
            ". . . . . . . . . . . . . . . . . . . . . . . . . . . . . O . . . . . . . . . . \n",
            ". . . . . . . . . . . . . . . . . . . . . . . . . . . O . . . . . . . . . . . . \n",
            ". . . . . . . . . . . . . . . . . . . . . . . . . . . . . . . . . . . . . . O . \n",
            ". . . . . . O . . . . . . . . . . . . . . . . . . . . . . . . . . . . . . . . . \n",
            ". . . . . . . . . . . . . . . . . . . . . . . . . . . . . . . . . . . . O . . . \n",
            ". . . . . . . . . . . . . . . . . . . . . . . . . . . . O . . . . . . . . . . . \n",
            ". . . . . . . . . . . . . . O . . . . . . . . . . . . . . . . . . . . . . . . . \n"
          ],
          "name": "stdout"
        }
      ]
    },
    {
      "cell_type": "markdown",
      "metadata": {
        "id": "0J_7Q6EWHTgP"
      },
      "source": [
        "# Frequency Assignment\r\n",
        "The design of wireless networks, such as cell phone networks, involves assigning communication frequencies to devices. These communication frequencies can be separated into channels. The geographical area covered by a network can be divided into hexagonal cells, where each cell has a base station that covers a given area. Each cell requires a different number of channels, based on usage statistics and each cell has a set of neighbor cells, based on the geographical distances. The design of an efficient mobile network involves selecting subsets of channels for each cell, avoiding interference between calls in the same cell and in neighboring cells. Also, for economical reasons, the total bandwidth in use must be minimized, i.e., the total number of different channels used. One of the first real cases discussed in literature are the Philadelphia instances, with the structure depicted bellow:\r\n",
        "\r\n",
        "![](https://docs.python-mip.com/en/latest/_images/bmcpsmall.png)\r\n",
        "\r\n",
        "Each cell has a demand with the required number of channels drawn at the center of the hexagon, and a sequential id at the top left corner. Also, in this example, each cell has a set of at most 6 adjacent neighboring cells (distance 1). The largest demand (8) occurs on cell 2. This cell has the following adjacent cells, with distance 1: (1, 6). The minimum distances between channels in the same cell in this example is 3 and channels in neighbor cells should differ by at least 2 units.\r\n",
        "\r\n",
        "A generalization of this problem (not restricted to the hexagonal topology), is the Bandwidth Multicoloring Problem (BMCP), which has the following input data:\r\n",
        "\r\n",
        "N:\r\n",
        "set of cells, numbered from 1 to n;\r\n",
        "\r\n",
        "ri∈Z+:\r\n",
        "demand of cell i∈N, i.e., the required number of channels;\r\n",
        "\r\n",
        "di,j∈Z+:\r\n",
        "minimum distance between channels assigned to nodes i and j, di,i indicates the minimum distance between different channels allocated to the same cell."
      ]
    },
    {
      "cell_type": "code",
      "metadata": {
        "colab": {
          "base_uri": "https://localhost:8080/"
        },
        "id": "nircb1p-HTk5",
        "outputId": "a7bfae6b-d638-42b9-e1ca-8216d0a2d579"
      },
      "source": [
        "from itertools import product\r\n",
        "\r\n",
        "# number of channels per node\r\n",
        "r = [3, 5, 8, 3, 6, 5, 7, 3]\r\n",
        "N = range(len(r))\r\n",
        "\r\n",
        "# distance between channels in the same node (i, i) and in adjacent nodes\r\n",
        "#     0  1  2  3  4  5  6  7\r\n",
        "d = [[3, 2, 0, 0, 2, 2, 0, 0],   # 0\r\n",
        "     [2, 3, 2, 0, 0, 2, 2, 0],   # 1\r\n",
        "     [0, 2, 3, 0, 0, 0, 3, 0],   # 2\r\n",
        "     [0, 0, 0, 3, 2, 0, 0, 2],   # 3\r\n",
        "     [2, 0, 0, 2, 3, 2, 0, 0],   # 4\r\n",
        "     [2, 2, 0, 0, 2, 3, 2, 0],   # 5\r\n",
        "     [0, 2, 2, 0, 0, 2, 3, 0],   # 6\r\n",
        "     [0, 0, 0, 2, 0, 0, 0, 3]]   # 7\r\n",
        "\r\n",
        "# in complete applications this upper bound should be obtained from a feasible solution produced with some heuristic\r\n",
        "U = range(sum(d[i][j] for (i, j) in product(N, N)) + sum(el for el in r))\r\n",
        "\r\n",
        "model = Model()\r\n",
        "\r\n",
        "# decision variables\r\n",
        "x = [[model.add_var('x({},{})'.format(i, c), var_type=BINARY) for c in U] for i in N]\r\n",
        "\r\n",
        "z = model.add_var('z')\r\n",
        "\r\n",
        "# objective function\r\n",
        "model.objective = minimize(z)\r\n",
        "\r\n",
        "# constraint\r\n",
        "for i in N:\r\n",
        "  model += xsum(x[i][c] for c in U) == r[i]\r\n",
        "\r\n",
        "for i, j, c1, c2 in product(N, N, U, U):\r\n",
        "  if i != j and c1 <= c2 < c1 + d[i][j]:\r\n",
        "    model += x[i][c1] + x[j][c2] <= 1\r\n",
        "\r\n",
        "for i, c1, c2 in product(N, U, U):\r\n",
        "  if c1 < c2 < c1 + d[i][i]:\r\n",
        "    model += x[i][c1] + x[i][c2] <= 1\r\n",
        "\r\n",
        "for i, c in product(N, U):\r\n",
        "  model += z >= (c+1) * x[i][c]\r\n",
        "    \r\n",
        "# optimizing\r\n",
        "status = model.optimize(max_nodes=30)\r\n",
        "\r\n",
        "if status == OptimizationStatus.OPTIMAL:\r\n",
        "  print('Optimal solution cost {} found'.format(model.objective_value))\r\n",
        "elif status == OptimizationStatus.FEASIBLE:\r\n",
        "  print('Sol.cost {} found, best possible: {}'.format(model.objective_value, model.objective_bound))\r\n",
        "elif status == OptimizationStatus.NO_SOLUTION_FOUND:\r\n",
        "  print('No feasible solution found, lower bound is: {}'.format(model.objective_bound))\r\n",
        "else:\r\n",
        "  print('Infeasible')\r\n",
        "    \r\n",
        "if status == OptimizationStatus.OPTIMAL or status == OptimizationStatus.FEASIBLE:\r\n",
        "  for i in N:\r\n",
        "    print('Channels of node %d: %s' % (i, [c for c in U if x[i][c].x >= 0.99]))\r\n"
      ],
      "execution_count": null,
      "outputs": [
        {
          "output_type": "stream",
          "text": [
            "Optimal solution cost 41.0 found\n",
            "Channels of node 0: [0, 6, 12]\n",
            "Channels of node 1: [4, 10, 16, 22, 38]\n",
            "Channels of node 2: [2, 8, 14, 20, 26, 31, 36, 40]\n",
            "Channels of node 3: [1, 6, 13]\n",
            "Channels of node 4: [4, 15, 18, 22, 29, 34]\n",
            "Channels of node 5: [2, 8, 20, 26, 31]\n",
            "Channels of node 6: [0, 6, 12, 18, 24, 29, 34]\n",
            "Channels of node 7: [8, 11, 18]\n"
          ],
          "name": "stdout"
        }
      ]
    },
    {
      "cell_type": "markdown",
      "metadata": {
        "id": "igLSGDJBNXqd"
      },
      "source": [
        "# Resource Constrained Project Scheduling\r\n",
        "The Resource-Constrained Project Scheduling Problem (RCPSP) is a combinatorial optimization problem that consists of finding a feasible scheduling for a set of n jobs subject to resource and precedence constraints. Each job has a processing time, a set of successors jobs and a required amount of different resources. Resources may be scarce but are renewable at each time period. Precedence constraints between jobs mean that no jobs may start before all its predecessors are completed. The jobs must be scheduled non-preemptively, i.e., once started, their processing cannot be interrupted.\r\n",
        "\r\n",
        "In addition to the jobs that belong to the project, the set J contains jobs 0 and n+1, which are dummy jobs that represent the beginning and the end of the planning, respectively. The processing time for the dummy jobs is always zero and these jobs do not consume resources.\r\n",
        "\r\n",
        "A binary programming formulation was proposed by Pritsker et al. [PWW69]. In this formulation, decision variables xjt=1 if job j is assigned to begin at time t; otherwise, xjt=0. All jobs must finish in a single instant of time without violating precedence constraints while respecting the amount of available resources.\r\n",
        "\r\n",
        "An instance is shown below. The figure shows a graph where jobs in J are represented by nodes and precedence relations S are represented by directed edges. The time-consumption pj and all information concerning resource consumption u(j,r) are included next to the graph. This instance contains 10 jobs and 2 renewable resources, R={r1,r2}, where c1 = 6 and c2 = 8. Finally, a valid (but weak) upper bound on the time horizon T can be estimated by summing the duration of all jobs.\r\n",
        "\r\n",
        "![](https://docs.python-mip.com/en/latest/_images/rcpsp.png)\r\n",
        "\r\n"
      ]
    },
    {
      "cell_type": "code",
      "metadata": {
        "colab": {
          "base_uri": "https://localhost:8080/"
        },
        "id": "EgqO76vhNYmc",
        "outputId": "8896d2d4-fa58-4311-c626-7d437093fef4"
      },
      "source": [
        "from itertools import product\r\n",
        "\r\n",
        "use_time = [0, 3, 2, 5, 4, 2, 3, 4, 2, 4, 6, 0]\r\n",
        "\r\n",
        "req_resource = [[0, 0], [5, 1], [0, 4], [1, 4], [1, 3], [3, 2], [3, 1], [2, 4],\r\n",
        "                [4, 0], [5, 2], [2, 5], [0, 0]]\r\n",
        "avail_resource = [6, 8]\r\n",
        "\r\n",
        "PREDECESSOR = [[0, 1], [0, 2], [0, 3], [1, 4], [1, 5], [2, 9], [2, 10], [3, 8], [4, 6],\r\n",
        "               [4, 7], [5, 9], [5, 10], [6, 8], [6, 9], [7, 8], [8, 11], [9, 11], [10, 11]]\r\n",
        "\r\n",
        "(RESOURCE, JOB, TIME) = (range(len(avail_resource)), range(len(use_time)), range(sum(use_time)))\r\n",
        "\r\n",
        "model = Model()\r\n",
        "\r\n",
        "# decision variables\r\n",
        "x = [[model.add_var(name='x({},{})'.format(j, t), var_type=BINARY) for t in TIME] for j in JOB]\r\n",
        "\r\n",
        "# objective function\r\n",
        "model.objective = minimize(xsum(t * x[-1][t] for t in TIME))\r\n",
        "\r\n",
        "# constraint\r\n",
        "for j in JOB:\r\n",
        "  model += xsum(x[j][t] for t in TIME) == 1\r\n",
        "\r\n",
        "for (r, t) in product(RESOURCE, TIME):\r\n",
        "  model += xsum(req_resource[j][r] * x[j][t2] for j in JOB for t2 in range(max(0, t - use_time[j] + 1), t + 1)) <= avail_resource[r]\r\n",
        "\r\n",
        "for (pre, j) in PREDECESSOR:\r\n",
        "  model += xsum(t * x[j][t] - t * x[pre][t] for t in TIME) >= use_time[j]\r\n",
        "    \r\n",
        "# optimizing\r\n",
        "status = model.optimize(max_nodes=30)\r\n",
        "\r\n",
        "if status == OptimizationStatus.OPTIMAL:\r\n",
        "  print('Optimal solution cost {} found'.format(model.objective_value))\r\n",
        "elif status == OptimizationStatus.FEASIBLE:\r\n",
        "  print('Sol.cost {} found, best possible: {}'.format(model.objective_value, model.objective_bound))\r\n",
        "elif status == OptimizationStatus.NO_SOLUTION_FOUND:\r\n",
        "  print('No feasible solution found, lower bound is: {}'.format(model.objective_bound))\r\n",
        "else:\r\n",
        "  print('Infeasible')\r\n",
        "    \r\n",
        "if status == OptimizationStatus.OPTIMAL or status == OptimizationStatus.FEASIBLE:\r\n",
        "  print('\\nSchedule: ')\r\n",
        "  for (j, t) in product(JOB, TIME):\r\n",
        "    if x[j][t].x >= 0.99:\r\n",
        "      print('Job {}: begins at t={} and finishes at t={}'.format(j, t, t + use_time[j]))\r\n",
        "  print('Makespan = {}'.format(model.objective_value))"
      ],
      "execution_count": null,
      "outputs": [
        {
          "output_type": "stream",
          "text": [
            "Sol.cost 21.0 found, best possible: 16.50068704218902\n",
            "\n",
            "Schedule: \n",
            "Job 0: begins at t=0 and finishes at t=0\n",
            "Job 1: begins at t=0 and finishes at t=3\n",
            "Job 2: begins at t=2 and finishes at t=4\n",
            "Job 3: begins at t=13 and finishes at t=18\n",
            "Job 4: begins at t=5 and finishes at t=9\n",
            "Job 5: begins at t=3 and finishes at t=5\n",
            "Job 6: begins at t=10 and finishes at t=13\n",
            "Job 7: begins at t=11 and finishes at t=15\n",
            "Job 8: begins at t=19 and finishes at t=21\n",
            "Job 9: begins at t=15 and finishes at t=19\n",
            "Job 10: begins at t=5 and finishes at t=11\n",
            "Job 11: begins at t=21 and finishes at t=21\n",
            "Makespan = 21.0\n"
          ],
          "name": "stdout"
        }
      ]
    }
  ]
}